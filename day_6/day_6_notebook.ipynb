{
 "cells": [
  {
   "cell_type": "markdown",
   "id": "ba85d813",
   "metadata": {},
   "source": [
    "--- Day 6: Tuning Trouble ---\n",
    "\n",
    "The preparations are finally complete; you and the Elves leave camp on foot and begin to make your way toward the star fruit grove.\n",
    "\n",
    "As you move through the dense undergrowth, one of the Elves gives you a handheld device. He says that it has many fancy features, but the most important one to set up right now is the communication system.\n",
    "\n",
    "However, because he's heard you have significant experience dealing with signal-based systems, he convinced the other Elves that it would be okay to give you their one malfunctioning device - surely you'll have no problem fixing it.\n",
    "\n",
    "As if inspired by comedic timing, the device emits a few colorful sparks.\n",
    "\n",
    "To be able to communicate with the Elves, the device needs to lock on to their signal. The signal is a series of seemingly-random characters that the device receives one at a time.\n",
    "\n",
    "To fix the communication system, you need to add a subroutine to the device that detects a start-of-packet marker in the datastream. In the protocol being used by the Elves, the start of a packet is indicated by a sequence of four characters that are all different.\n",
    "\n",
    "The device will send your subroutine a datastream buffer (your puzzle input); your subroutine needs to identify the first position where the four most recently received characters were all different. Specifically, it needs to report the number of characters from the beginning of the buffer to the end of the first such four-character marker.\n",
    "\n",
    "For example, suppose you receive the following datastream buffer:\n",
    "\n",
    "mjqjpqmgbljsphdztnvjfqwrcgsmlb\n",
    "After the first three characters (mjq) have been received, there haven't been enough characters received yet to find the marker. The first time a marker could occur is after the fourth character is received, making the most recent four characters mjqj. Because j is repeated, this isn't a marker.\n",
    "\n",
    "The first time a marker appears is after the seventh character arrives. Once it does, the last four characters received are jpqm, which are all different. In this case, your subroutine should report the value 7, because the first start-of-packet marker is complete after 7 characters have been processed.\n",
    "\n",
    "Here are a few more examples:\n",
    "\n",
    "bvwbjplbgvbhsrlpgdmjqwftvncz: first marker after character 5\n",
    "nppdvjthqldpwncqszvftbrmjlhg: first marker after character 6\n",
    "nznrnfrfntjfmvfwmzdfjlvtqnbhcprsg: first marker after character 10\n",
    "zcfzfwzzqfrljwzlrfnpqdbhtmscgvjw: first marker after character 11\n",
    "How many characters need to be processed before the first start-of-packet marker is detected?"
   ]
  },
  {
   "cell_type": "code",
   "execution_count": 1,
   "id": "25586fdc",
   "metadata": {},
   "outputs": [],
   "source": [
    "# import our data:\n",
    "\n",
    "f = open('day_six_input.txt', 'r')\n",
    "datastream_buffer = f.read().splitlines()\n",
    "f.close()\n",
    "\n",
    "# 2019 - 7, 9, 16, "
   ]
  },
  {
   "cell_type": "code",
   "execution_count": 25,
   "id": "75444a14",
   "metadata": {},
   "outputs": [
    {
     "data": {
      "text/plain": [
       "'tnmmpfmfzmmnsmsjmjjbvvhnhzzfmmgpmgpgbgnnwffjhffzqqmzzbnbssrqqrnnhsnngsszsqzszhzfhzfzwzfzrrmhmghgwhhjjqwqttwhttjllrtrtzzcfzfgzznfznfzfnnbddvmvzmmfsmfsmfffhlfldlqqrnrznnhmmgqqzhhmjhmhppqbpbbngnlldvvdqvvrtrdrtrnttnppfllrbbrprpnpdplpmllhwwddqpdprddzzfccqpcqpcpcbbdhdjdjwjcwcctdcttzgzmmscmsmdmttwhwzhhnjhnhlhvhlvlglpgpmmjmgmrgrddmwddjfftfwflfslffqtfqttpftppflfmmhvhvcvbvhbhggpbgbppvdpvpvfppbwwsnnhphllbdbnbvbmvvzffvsffdldmlmtmccnlnbnjbnjnhhbfhhgzzlwlfflzffdccggdcgcjjhffjfgfgcczjccvwcvvqgvvqvllqzqmqllhjjqnqggttsdddjgdjgjzzrgrfrbrssrgrgdgrgbbssmdsdfddsndnsdnsdnnmqqsspqqmrqqpmmsjmmszzqvqrvrzznnjdndtntfnttgtctqtwwnwswrrthrttsdttlhlvvdzzgqgttnppjpljplpgpvgvqqvppzmmqggtjgtgstslltjltjjgcjcmjmsshvvtppgmmlslqqshqshsllbggfpgffdsdgssncchctcwwtllgqlqblqlqvvmsvmmwnnzppqllsttgmttftvfvjjrzzswzzjvzjzljjchcshcscbbrdbrbcrrnvvtctntvtvbvjvqjqggsrspsprrbgghdghhmwwldldzdttrvrnrfftqtftrrdsszlzvvbtbffftzzrzqrrhjhghhwbhhsjsfsttdjdjnjhjmjpmplplrrdjdcdjdbjblllbqlqdlqlpqptppdhhqmqfqhqhchwwqjqfjqfqhqshsmswsbbvssdspdpsdssstntltrrgnnmttgmmsjjrlrnlrnrnwrwfwlfltlzllcjcmjcjpjhphcpcwppmvmjjzbzvbbfnfcflfddntddbmmmhnnsrnrrvdvnvcvwvcwvwrrqwqccqmmswmmjrjmmwjmjfjhwrtbjzdvlgrjmvzfmhcqsncvlhzzncjlbvcwrdwjmqjcnptqslvfzpsvltgzsvjdsjrppdrmqrbqwhddfhnftfblspsrhtdtjwdnhbcbtlwlvccsfscvczzrrqmwbwbdmwgzqntvflppqvppwrhnvtlsbzqglhsfdgssqzdtjdpwrrhbnbtwhhnmnlwfwlqffjjrndbpwwsvdrhddbjnnqzmtpvvtwbcpndjzlhcfrrdvmljswjzvmfqcdsgqwclqshwrmblszdvsnrpdgnllmlchzdjlrrpndmmgddjqgjqrhwfbwddqdfbvptrmzhtsqfsfswpnvmtswqprjhbzvntgrlzthhnqbtpplqpvcfnpgdtbhqbhflltbbtmmhcwztslmpznttmssclhmnbsbrwlblrbsdfmnpqbwwmsncvzmpqwhzjgcgdrzvglgdtswmstdhrprdjfmqtjlmplbjtzcgnrwpdvpfjjfwjfnnpmdtwtqsgfndngsbmcwjtglqwtfrclbczfcmjtgcwszhzrbcphrhwmhcwghjznzthnwpljjltdlvqtffsrbmwcsvrdmqqggbznnlzbbqtgspqvnjpbdhtzmgttrcwwszwpgdrcnfqtgrgqdrctlzwtdwqppbhnwgldnqltznnfpbfqtgmmwpcqnndbgmrrtgtvnmlfcwsldchjnnqfrhpzwtclrzftsqllgvpqbgmfjdhqjttwcvbpvfqsvhbhhtwnqnbgndbtzhcvgglbhghbzrbrmdllmgfgttqmhtdnwrpwllhnghrjctrbzrcpnjnctvmrlpjhftnfbczrjrnnbqplplcrbngbhvmmvcffmgvbhjzbhcmtwmwgmjmwjvvlqfldswpntjnsjvmdlbzqqlgbwspwvmnwtwjbczmwplrhmjgsppnmtwmvsfwnsgddgwqcvpftcpzrhpldnwmcjgtjmljjbcmjcqdbwczndnjnjgrmtjrqnnjndzqdqpcgdqptdbrqftnwrgqmrzrvsfmmmbpltlncvtgrjfjmvtgwqphczwjhdrdwtfvgztbhrndvpcbgfjfvmrrljwrvcrtdmtjndfnwgcnfrzgsnjpztbwwsbvqfnpjctgrhsflhnzbbsfqbnmtnvrmjzsbjfndvttpvpfjhqntflgbfnzcclcwmhbsgqfjdcgsvrhtstspfzgvgglgddqmclsmzgzgtncdsfmwdvtcsgwvbzjvclwppqdjgfcrcbzcwbdhrnssjbmnmfmwthdrnmlfhqlddwqrdhsdvdcsmcgjsgcmpnhlbnqftpdjswtmpbznlcrhtswgnmwjcdfmljdngzfsmlzjjnzmfzshmztdbdmcqwmlvcrzgpmbjqcghclwvdbrhgvwqchnndftnrtptmctdlhmfjvpzrpccddfpcdwmzqfhnsqzrvwblzfhcjdcjfctczwqrcbjnrpdcbbnsgnlvqqmnsfgsqschjlbzhhsrbvdbfrhvsgrlzwncgwpdbvmblgzbwbcbgqfwmdmgcrbbjfcvmqgztqpptdhwmvmsdqwplpgcjzgqzdrftzhqbltvhrmlrfffcgfpqzwrrbbtlsjgmtbjvtnmhwdpjptjwfwgjgvbfqwmflrrqzlzdcmtlnptdrpcpdnswcfscnndnrfbgwvvncdjgsdpbwptdtvrqlmrhmvvcwblhhzbjdpsbszhrftfbcgwhwrgglnjzqdhcqnvlhgqjhnddvrslhntssptsbhmqwwqqnbvfmcbgpvgjbrttnvlljdbtfplgmbwtcbcdtqdpqqdvhbmpmtszwpzblcfrtznhhtcljtdlhjdbnlhvwgjsmgvrslrfwnmzwlstpgltvrgnpdqztvfnvdhdtwwqdfsmtpbpdclsbnwcgjzchjcsjmvhbjshmjjlpgdzcgbmmchwmcsddsvhsnpqtcpnhqnbvwgwqhtjbqncgwwftnrzsbsjtvqmjzqvvncmncwflcfpcjqgdtbsmjzzsdjfvhnqbgjhmfgjghwscthbfmbndltbqzwpqtmrswvprpmgwqnqpfnmffrpdlpfqmhrthppzvzwbrtjvwvjndsqdlqtbpqwfcttggnjmcqqnmjwfhfjgcvlnmtlgbdvmctzlwbfgnflwtsflgnfbnfbhhdgjctzvvmrhdsmvmmtnqwtszmqcpsbrqrgjfrzctcbzmtdlhwjtfdqbtthdnqcrpwrhcrvjstbhpltvgmvpmvfjstgzjsgzprzcqzqztvvdcnrrqwrhddcrhhncdrlwzwqlnbbzcfmqtnwgfdscmrbwnbldlfrqchzdnlnmwncgrzdclnvcvplgwjsbzmbnnsdrsfhrlssvncnwmcrjdjbjpdtrrvlnbjvspfqbwdpcnnpjzfnmbhcdhlmdgbpvbzmfltzstnznfctcdzhbfsvnfbsjqzmwfllhtrsfghlrpjgrgzgchlwrdmqzbrncsvnwhfqmwjbnvjctzphcsftqsbmwntgvjqhhvwndvmfmjhhhmfdvrlhpvzmmhrbhbddqbdmgqqsvddsswmzqcjmvhztfqpchzpwhdshzjlmbmnsgzqhbnmrshwvtmgmgndtddpfwsjrrjdhncdhtlczdvlbvqplttnzrblthlcffdtfsdtpwzdgbldvnsttvpzmbgnqddrszftcpwrgmfzhjjvghpntmzcttcsnrjnfpqzqqqljhzlrpgwngllqjwnwfcsphqplgbzmfqfgbfsqpsrntszqbcqnhctsnbfshmlbwfflrwwsjwqwfqlgnftdwmctmclwjhjhbsspqldlshbmpbgrftpnbpsqldhrrbdqwfwvfhclrlfdjfmzgmptdjdcsplcspznfjrfhtsjndwpslrdgnllllwqjgznrhswfssdlvdpmwwgmstqbhfmdhtzvzzvhwzbrrvvsl'"
      ]
     },
     "execution_count": 25,
     "metadata": {},
     "output_type": "execute_result"
    }
   ],
   "source": [
    "datastream_buffer[0]"
   ]
  },
  {
   "cell_type": "code",
   "execution_count": 27,
   "id": "d55dd474",
   "metadata": {},
   "outputs": [
    {
     "data": {
      "text/plain": [
       "4095"
      ]
     },
     "execution_count": 27,
     "metadata": {},
     "output_type": "execute_result"
    }
   ],
   "source": [
    "len(datastream_buffer[0])"
   ]
  },
  {
   "cell_type": "code",
   "execution_count": 4,
   "id": "e9c3d822",
   "metadata": {},
   "outputs": [],
   "source": [
    "test_datastream_buffer = 'mjqjpqmgbljsphdztnvjfqwrcgsmlb'"
   ]
  },
  {
   "cell_type": "code",
   "execution_count": 10,
   "id": "fba9d36d",
   "metadata": {},
   "outputs": [
    {
     "data": {
      "text/plain": [
       "'mjqjpqmgbljsphdztnvjfqwrcgsmlb'"
      ]
     },
     "execution_count": 10,
     "metadata": {},
     "output_type": "execute_result"
    }
   ],
   "source": [
    "test_datastream_buffer"
   ]
  },
  {
   "cell_type": "code",
   "execution_count": 6,
   "id": "103108da",
   "metadata": {},
   "outputs": [],
   "source": [
    "def chunker(seq, size):\n",
    "    return (seq[pos:pos + size] for pos in range(0, len(seq), size))"
   ]
  },
  {
   "cell_type": "code",
   "execution_count": 8,
   "id": "20a0550b",
   "metadata": {},
   "outputs": [
    {
     "name": "stdout",
     "output_type": "stream",
     "text": [
      "'mjqj'\n",
      "'pqmg'\n",
      "'bljs'\n",
      "'phdz'\n",
      "'tnvj'\n",
      "'fqwr'\n",
      "'cgsm'\n",
      "'lb'\n"
     ]
    }
   ],
   "source": [
    "for group in chunker(test_datastream_buffer, 4):\n",
    "   print(repr(group),)"
   ]
  },
  {
   "cell_type": "code",
   "execution_count": 23,
   "id": "23515cc8",
   "metadata": {},
   "outputs": [
    {
     "data": {
      "text/plain": [
       "True"
      ]
     },
     "execution_count": 23,
     "metadata": {},
     "output_type": "execute_result"
    }
   ],
   "source": [
    "# determine if a string has all unique characters:\n",
    "\n",
    "from collections import Counter\n",
    " \n",
    " \n",
    "def isUniqueChars(string):\n",
    " \n",
    "    # Counting frequency\n",
    "    freq = Counter(string)\n",
    " \n",
    "    if(len(freq) == len(string)):\n",
    "        return True\n",
    "    else:\n",
    "        return False\n",
    "\n",
    "isUniqueChars('jpqm')"
   ]
  },
  {
   "cell_type": "code",
   "execution_count": 28,
   "id": "3cbc8bdd",
   "metadata": {},
   "outputs": [],
   "source": [
    "# for i in range(0,len(test_datastream_buffer)):\n",
    "# #     print(i)\n",
    "# #     print(test_datastream_buffer[i:i+4])\n",
    "#     if isUniqueChars(test_datastream_buffer[i:i+4]):\n",
    "#         print('unique found:', test_datastream_buffer[i:i+4])\n",
    "#         print(\"solution?:\",i+4)"
   ]
  },
  {
   "cell_type": "code",
   "execution_count": 31,
   "id": "5a421fd6",
   "metadata": {},
   "outputs": [
    {
     "name": "stdout",
     "output_type": "stream",
     "text": [
      "mjqj\n",
      "jqjp\n",
      "qjpq\n",
      "jpqm\n",
      "pqmg\n",
      "qmgb\n",
      "mgbl\n",
      "gblj\n",
      "bljs\n",
      "ljsp\n",
      "jsph\n",
      "sphd\n",
      "phdz\n",
      "hdzt\n",
      "dztn\n",
      "ztnv\n",
      "tnvj\n",
      "nvjf\n",
      "vjfq\n",
      "jfqw\n",
      "fqwr\n",
      "qwrc\n",
      "wrcg\n",
      "rcgs\n",
      "cgsm\n",
      "gsml\n",
      "smlb\n",
      "mlb\n",
      "lb\n",
      "b\n"
     ]
    }
   ],
   "source": [
    "for i in range(0,len(test_datastream_buffer)):\n",
    "#     print(i)\n",
    "    print(test_datastream_buffer[i:i+4])"
   ]
  },
  {
   "cell_type": "code",
   "execution_count": 22,
   "id": "1c864ebd",
   "metadata": {},
   "outputs": [],
   "source": [
    "def subroutine(data_input):\n",
    "    for i in range(0,len(data_input)):\n",
    "        if isUniqueChars(data_input[i:i+4]):\n",
    "            print('unique found:', data_input[i:i+4])\n",
    "            return i + 4"
   ]
  },
  {
   "cell_type": "code",
   "execution_count": 26,
   "id": "8100a126",
   "metadata": {},
   "outputs": [
    {
     "name": "stdout",
     "output_type": "stream",
     "text": [
      "unique found: fjhw\n"
     ]
    },
    {
     "data": {
      "text/plain": [
       "1134"
      ]
     },
     "execution_count": 26,
     "metadata": {},
     "output_type": "execute_result"
    }
   ],
   "source": [
    "subroutine(datastream_buffer[0])"
   ]
  },
  {
   "cell_type": "markdown",
   "id": "36a58ed7",
   "metadata": {},
   "source": [
    "--- Part Two ---\n",
    "\n",
    "Your device's communication system is correctly detecting packets, but still isn't working. It looks like it also needs to look for messages.\n",
    "\n",
    "A start-of-message marker is just like a start-of-packet marker, except it consists of 14 distinct characters rather than 4.\n",
    "\n",
    "Here are the first positions of start-of-message markers for all of the above examples:\n",
    "\n",
    "mjqjpqmgbljsphdztnvjfqwrcgsmlb: first marker after character 19\n",
    "bvwbjplbgvbhsrlpgdmjqwftvncz: first marker after character 23\n",
    "nppdvjthqldpwncqszvftbrmjlhg: first marker after character 23\n",
    "nznrnfrfntjfmvfwmzdfjlvtqnbhcprsg: first marker after character 29\n",
    "zcfzfwzzqfrljwzlrfnpqdbhtmscgvjw: first marker after character 26\n",
    "How many characters need to be processed before the first start-of-message marker is detected?\n",
    "\n"
   ]
  },
  {
   "cell_type": "code",
   "execution_count": 32,
   "id": "861de2b6",
   "metadata": {},
   "outputs": [
    {
     "name": "stdout",
     "output_type": "stream",
     "text": [
      "mjqjpqmgbljsph\n",
      "jqjpqmgbljsphd\n",
      "qjpqmgbljsphdz\n",
      "jpqmgbljsphdzt\n",
      "pqmgbljsphdztn\n",
      "qmgbljsphdztnv\n",
      "mgbljsphdztnvj\n",
      "gbljsphdztnvjf\n",
      "bljsphdztnvjfq\n",
      "ljsphdztnvjfqw\n",
      "jsphdztnvjfqwr\n",
      "sphdztnvjfqwrc\n",
      "phdztnvjfqwrcg\n",
      "hdztnvjfqwrcgs\n",
      "dztnvjfqwrcgsm\n",
      "ztnvjfqwrcgsml\n",
      "tnvjfqwrcgsmlb\n",
      "nvjfqwrcgsmlb\n",
      "vjfqwrcgsmlb\n",
      "jfqwrcgsmlb\n",
      "fqwrcgsmlb\n",
      "qwrcgsmlb\n",
      "wrcgsmlb\n",
      "rcgsmlb\n",
      "cgsmlb\n",
      "gsmlb\n",
      "smlb\n",
      "mlb\n",
      "lb\n",
      "b\n"
     ]
    }
   ],
   "source": [
    "for i in range(0,len(test_datastream_buffer)):\n",
    "#     print(i)\n",
    "    print(test_datastream_buffer[i:i+14])"
   ]
  },
  {
   "cell_type": "code",
   "execution_count": 33,
   "id": "4747bc7c",
   "metadata": {},
   "outputs": [],
   "source": [
    "def message_subroutine(data_input):\n",
    "    for i in range(0,len(data_input)):\n",
    "        if isUniqueChars(data_input[i:i+14]):\n",
    "            print('unique found:', data_input[i:i+14])\n",
    "            return i + 14"
   ]
  },
  {
   "cell_type": "code",
   "execution_count": 37,
   "id": "de1e699e",
   "metadata": {},
   "outputs": [
    {
     "name": "stdout",
     "output_type": "stream",
     "text": [
      "unique found: wsbvqfnpjctgrh\n"
     ]
    },
    {
     "data": {
      "text/plain": [
       "2263"
      ]
     },
     "execution_count": 37,
     "metadata": {},
     "output_type": "execute_result"
    }
   ],
   "source": [
    "message_subroutine(datastream_buffer[0])"
   ]
  },
  {
   "cell_type": "code",
   "execution_count": null,
   "id": "601510ae",
   "metadata": {},
   "outputs": [],
   "source": []
  }
 ],
 "metadata": {
  "kernelspec": {
   "display_name": "Python 3 (ipykernel)",
   "language": "python",
   "name": "python3"
  },
  "language_info": {
   "codemirror_mode": {
    "name": "ipython",
    "version": 3
   },
   "file_extension": ".py",
   "mimetype": "text/x-python",
   "name": "python",
   "nbconvert_exporter": "python",
   "pygments_lexer": "ipython3",
   "version": "3.9.13"
  }
 },
 "nbformat": 4,
 "nbformat_minor": 5
}
