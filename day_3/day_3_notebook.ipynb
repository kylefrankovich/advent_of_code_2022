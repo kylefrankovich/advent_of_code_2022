{
 "cells": [
  {
   "cell_type": "markdown",
   "id": "ddaf2ecb",
   "metadata": {},
   "source": [
    "--- Day 3: Rucksack Reorganization ---\n",
    "\n",
    "One Elf has the important job of loading all of the rucksacks with supplies for the jungle journey. Unfortunately, that Elf didn't quite follow the packing instructions, and so a few items now need to be rearranged.\n",
    "\n",
    "Each rucksack has two large compartments. All items of a given type are meant to go into exactly one of the two compartments. The Elf that did the packing failed to follow this rule for exactly one item type per rucksack.\n",
    "\n",
    "The Elves have made a list of all of the items currently in each rucksack (your puzzle input), but they need your help finding the errors. Every item type is identified by a single lowercase or uppercase letter (that is, a and A refer to different types of items).\n",
    "\n",
    "The list of items for each rucksack is given as characters all on a single line. A given rucksack always has the same number of items in each of its two compartments, so the first half of the characters represent items in the first compartment, while the second half of the characters represent items in the second compartment.\n",
    "\n",
    "For example, suppose you have the following list of contents from six rucksacks:\n",
    "\n",
    "vJrwpWtwJgWrhcsFMMfFFhFp\n",
    "jqHRNqRjqzjGDLGLrsFMfFZSrLrFZsSL\n",
    "PmmdzqPrVvPwwTWBwg\n",
    "wMqvLMZHhHMvwLHjbvcjnnSBnvTQFn\n",
    "ttgJtRGJQctTZtZT\n",
    "CrZsJsPPZsGzwwsLwLmpwMDw\n",
    "The first rucksack contains the items vJrwpWtwJgWrhcsFMMfFFhFp, which means its first compartment contains the items vJrwpWtwJgWr, while the second compartment contains the items hcsFMMfFFhFp. The only item type that appears in both compartments is lowercase p.\n",
    "The second rucksack's compartments contain jqHRNqRjqzjGDLGL and rsFMfFZSrLrFZsSL. The only item type that appears in both compartments is uppercase L.\n",
    "The third rucksack's compartments contain PmmdzqPrV and vPwwTWBwg; the only common item type is uppercase P.\n",
    "The fourth rucksack's compartments only share item type v.\n",
    "The fifth rucksack's compartments only share item type t.\n",
    "The sixth rucksack's compartments only share item type s.\n",
    "To help prioritize item rearrangement, every item type can be converted to a priority:\n",
    "\n",
    "Lowercase item types a through z have priorities 1 through 26.\n",
    "Uppercase item types A through Z have priorities 27 through 52.\n",
    "In the above example, the priority of the item type that appears in both compartments of each rucksack is 16 (p), 38 (L), 42 (P), 22 (v), 20 (t), and 19 (s); the sum of these is 157.\n",
    "\n",
    "Find the item type that appears in both compartments of each rucksack. What is the sum of the priorities of those item types?\n",
    "\n"
   ]
  },
  {
   "cell_type": "code",
   "execution_count": 1,
   "id": "fd76b39b",
   "metadata": {},
   "outputs": [],
   "source": [
    "# import our data:\n",
    "\n",
    "f = open('day_three_input.txt', 'r')\n",
    "rucksack_data = f.read().splitlines()\n",
    "f.close()"
   ]
  },
  {
   "cell_type": "code",
   "execution_count": 2,
   "id": "38538a6c",
   "metadata": {},
   "outputs": [
    {
     "data": {
      "text/plain": [
       "['CjhshBJCSrTTsLwqwqwb',\n",
       " 'GtmnFHlDfcpHbLZjtTTRLWwb',\n",
       " 'fDfNHHjVFNvvrvVBJJdS',\n",
       " 'PPWvWQjPhrPQwlMWJJdMDGbJTdCJ',\n",
       " 'rsqsStgNNggBNBZHSrJGdJdCFRRZCFbGbTdJ',\n",
       " 'qgBqqHzzggBpzSnBNqNSSSgcfhrVlVmwPljQVLVwVvQmmzVl',\n",
       " 'bBBGBfmGvBTnGtGJBtGpcJbZrrddjqrZhDldwdcqrjrjDr',\n",
       " 'HWPSQMsPHFsMWPVVMVSHCwDCDwwZZvwjwQZZwjdd',\n",
       " 'vVHPgHHFRLfpfJTLLtJL',\n",
       " 'LWLZhDBHhWWHjBwHwBjCTrBnnrQTQCJTJpTQBQ',\n",
       " 'vvdcqbRmvwSFmRqPFSqwdvtQnrpCQJpNNVnrptVCtCCP',\n",
       " 'wRSffqlFgvvdgdlzhLWWDzLljZhhGL',\n",
       " 'LNbTbPdTNgnShgSjmHcqtQGCtrctCPcQqc',\n",
       " 'vzWZDZZBlDwlzvDRZfFBRzVBtMMGHCcpjrqBGMtQQppqHtCq',\n",
       " 'DfRvFZjZRsRjlVWsjFlWVWvdSdbhsSmnSngTdTSTsJdSLm',\n",
       " 'nnZRbfZRTZfRsbZTFPRfpbRJdqqQNPwNqvvwvvvSwdQqdS',\n",
       " 'WjDzjMWMHpQwcSQWcJSS',\n",
       " 'hrHhHDgpphmjtMrGLDmGgmnbsflbfZCsnsClltsVsfRR',\n",
       " 'QFngsFnGdLGFGVRgLLqWPQPWvBrMDppCPrDB',\n",
       " 'NfcHZZzbHthSZtNtNfhHWhClDvCqlrqBvrCpWMWB',\n",
       " 'fSMSHjbTMVgVVngVgT',\n",
       " 'llnMffwbvCnffHvJJPJpPBNVVZDJDmmS',\n",
       " 'QssGGHhRgcqjRRTWGWRGDZcVFZBpNBmPFBDSmZNP',\n",
       " 'hzsRHWQshzgRjjsgQRTsbwzCtnrrlnrwzMCtvMff',\n",
       " 'HdddHHmtDMDTqHHSftmqdmfdssGzrsjVGtrllWlGZGsnlnnp',\n",
       " 'BQNPNPgPhBBhCJQhbCgCnrrnbZnlWznzpGssllVW',\n",
       " 'LFNZRvCPCFZmHmTLcwdwcq',\n",
       " 'zQRDChCnVhqRllpzQlzqCVVzPvNHTTFFHlNPsPNvTBPBHBFT',\n",
       " 'wcfdfDmfPHjdsHPs',\n",
       " 'cwGMwMMbwbmwJZfDSMmfwcpRVWzQqnnnzGVVnhqRVCph',\n",
       " 'CScCSPcPszFJWSMjGZHMpGMjvG',\n",
       " 'TTQfQvBTVBfrDVRDVqGMmjZqnpnGmMpnnpZZ',\n",
       " 'NDdbrQdVQDNNfvTVNdBfrDBJFcsLWcCJzWFCcFLbFcFJsc',\n",
       " 'WWdzhpHcHHrtzGBJMwmjJGmBtP',\n",
       " 'CqsgqNrVnlCBCvPjCBmPJm',\n",
       " 'LDDDLnVsqsgTQsgFcQzbQdprbWHzdb',\n",
       " 'nFpNPGLGrntlrFLpflfBTcJwSgwQvGwbgSvbvJvT',\n",
       " 'DHZWmMDZZDHPMHsDJQbbgSJcvbQgjwJM',\n",
       " 'CRdzzdDDVRHWWNlPfPzllnFLlL',\n",
       " 'ZJVqGSVCJCSgdSvtjtvcjcjbNl',\n",
       " 'pmDWFnDFMnDdFLDHffjcbjjtBNctBjBMbMcl',\n",
       " 'dLnfmdLLmrWsgZqCThgssgsq',\n",
       " 'CLsvLLQvrlrrpLpw',\n",
       " 'tmTHnNtgmzgWmpjlpjnwrrlRjw',\n",
       " 'WHgTdmNJmJTDDrtFWsVGQqBQqcCCbhdvCB',\n",
       " 'jwCHwmWRTWRWJwfcgVgflvPqPBPH',\n",
       " 'MpphdbZZpZMNZpsdpZLMgjBlBqDvLPjfLVPBgPfv',\n",
       " 'ZdrZsjQbnMCGwrRwzmTr',\n",
       " 'CMDsWppsfhjNNzzzcBrbPgnrrnVBQHBNrV',\n",
       " 'ZmGdTdvtStFDtTvtBHgPHnPHgnrnHVmH',\n",
       " 'ZtLZdwdGqtZqLTLtwvfjDWcRscqMCDsCfWjf',\n",
       " 'QQPPfPjLNLfSShfNRSRrrGHzvHrvlvnHRDJJ',\n",
       " 'WCMJJVBwbGCbnbCl',\n",
       " 'gBJmTBBMchsSjgfS',\n",
       " 'NvCQGNRQQrWRpWhhvQrNLgrJqTVzzLFZsJqJZFcJTqFMJJ',\n",
       " 'ttdBllbCSdcsJVVVzVMb',\n",
       " 'CnwfwwdlnPGQgpnPvv',\n",
       " 'WQmnmBBmWRCgDpndbD',\n",
       " 'SvjsqGGqTSTdbggS',\n",
       " 'lZbFJqLjvHZrcZNHcc',\n",
       " 'gcgQhclQlntnnvBMZlwffTBLwv',\n",
       " 'JqzNpqbmpJCbbzCfNFFqfWpZvDVTqBMTrTLvrTMTrvrZTT',\n",
       " 'NbJWCpRWSFWNWJCzmRNRdchcdHcchnfncnhntcdjng',\n",
       " 'JvDwhPWPzvzPDggWlvCQgPtHgtGnHtNqLqTnHTHHnnVg',\n",
       " 'jBsfcbpdQsRcsSpRcjZjHNGtnnVncVtqTVVNVNNT',\n",
       " 'prBbsjQdSbZdSFwMzrhPMWwzwlvC',\n",
       " 'SStQfWQmJQjjhphQ',\n",
       " 'sMVTwvLTswLwwqMPnnhglbHgglPh',\n",
       " 'RDrRVrVCsrssBFWffFCZthfNFN',\n",
       " 'ZnpgzcqgmhHtfwSDwplwVV',\n",
       " 'QCrBNLdLrrnSVSrl',\n",
       " 'LQQLLLjTBjGWnNBBGLFZbGgMcsMsZzbgbZZgsZ',\n",
       " 'ZnbzbhqPbMrnDGjtQGSRVVMGpf',\n",
       " 'gFdTlNJFGVGChJCt',\n",
       " 'HgswWLNdhwTTwWsNNvzPmbvbcZbrsbrmzP',\n",
       " 'SHpDqcJvBmJgJJHgDphHmvhTddWlLsZTTdFWMMsWtthZ',\n",
       " 'GPrRCPfRfjjwffjrrnPVPsTLZFwLWMzLdTsTFzzFWT',\n",
       " 'QPfZVNfbfQnRVjCRrPJBvSJgpDSDBHNgBJpB',\n",
       " 'mjpcZcHcrqjrNmNpNmptHNHWwvCwgwCgMmQgRQsRMgwMvnCg',\n",
       " 'DfSfFSVtDSTJVfdGJMwPnMRwnRCPQgMR',\n",
       " 'DDfzDVdbTbzVDDtrtqlHptqbjbql',\n",
       " 'lsBgqLqhqqgBBvGLBwQJJHRpJCJDHMwhwz',\n",
       " 'NCVfntPnVnfrZtfdbTntnnWDDMDwwRRJmJDWRWJmHRzpJD',\n",
       " 'ZrZbtbSZfdNVfbtCrbPTndsFvFLFSqcGLBFgvgjsgcqj',\n",
       " 'gwRCCDmlZtPDdtBBPM',\n",
       " 'VLrjccJVcJTfTtLjscVBHjHPjPQQSPpBHMjBhP',\n",
       " 'rfcJrzvvctrscvzRqGRCZvmqbmwqZw',\n",
       " 'nffqBWfRfRnpBfznpWTpTlWNNbcrDcbGbPhrGVwGlllPGN',\n",
       " 'MsJQsmQLjMMFsmjbPZNcNbrbmGVhZZ',\n",
       " 'LCJsFSsJFMFpfrTBWSvqpB',\n",
       " 'vSspfvprpTNTZNTj',\n",
       " 'LlFQCtnwMqqSmCMPmMSwClCJhBDJZZJZZjBTjQNjJbdjTT',\n",
       " 'PHtwMLPqCHsfVRGvSR',\n",
       " 'HjLDQMjtRvTmfTfmtf',\n",
       " 'BddChcvvhwhqgmqTfnSmdg',\n",
       " 'NBVVZJhZVhZsJJzhJZNHrRMPbQvHrjPvPDRvRN',\n",
       " 'GgwtwntLQmNjvRGJGv',\n",
       " 'wwzWzrzrqWjRlhJrNlrj',\n",
       " 'wBWSCMPMcdnHsTHPsn',\n",
       " 'MggMDDJzdbvsjCJvWJnJ',\n",
       " 'THBGGScfHwHqHGTGTBqfSWCsnWBCbvsbshjRnZWZCn',\n",
       " 'HwltftNGtmHHGqNlGmfPrVDDgzpVplpzDpVPbP',\n",
       " 'shMdsCMpQMCZMQsZQVDJnvvPpPLSvLSLLV',\n",
       " 'RmgzGTGRmClLNCvzVn',\n",
       " 'rCrRftmftWjbTttjcdFZBcjdsFqZQFjZ',\n",
       " 'qLwvNLtLvPGqSltLLqvNSpflMfQfMpMnBBggslMpfB',\n",
       " 'VDcVzzDRRVTDgMPBBgdfQD',\n",
       " 'VVWrcHbVzrzVjHPNqSmtqJJwjLGN',\n",
       " 'nBswlBBhntTttbFVnt',\n",
       " 'JNjTHZvLHDLVVLtCCFFPLz',\n",
       " 'THvNddgZWQNDNZgjZSfGwfsBrhmfGBhcWs',\n",
       " 'cCSbPmJqwqJjgJtTzJZT',\n",
       " 'BpBTFFTQZzQgNgZv',\n",
       " 'sFRVpsfrfrLfslwTcTccwcnCcTRC',\n",
       " 'DLjLwDPjVPnWWvVWVjcqzSCJTzSzMTtSrqRqJn',\n",
       " 'bdNGgmbGHdZdHbSRqrTJzrMtTR',\n",
       " 'dhGmFffGQsWjshcVpt',\n",
       " 'TrGzZpzWhCHcPPpF',\n",
       " 'sqsJqtlqDVDJVJttgNSbsQPfcjQcBQjhFFRSPQHFRc',\n",
       " 'VgqbtllbdvNtDdLZrHWGmwdrLM',\n",
       " 'DNrqBvvZZNDDHBFJmMNbLMRctztznRsbds',\n",
       " 'hlSlPPWfQCChPtWWfjTwLzbdRcbMsbMjnRLsgzsz',\n",
       " 'PCfWwlQpTTVmmtqmVGrvmt',\n",
       " 'lLrlLRbgrjRbRjFlRrnRRdgPdWdCwdWqmWPwqScdPc',\n",
       " 'tDZLNGHsNQZDNBGHTCVSddVCPwVqVtcdWV',\n",
       " 'BhGLBNvhHDTZDjfRvbfjljbbJf',\n",
       " 'McRctHfDctZGlZZWgpcW',\n",
       " 'TTQLQqLSLqTqhdLqPzLqLwrpsGpWVGFZGrlgWZGhFllV',\n",
       " 'QNdzbQgzSvqPzqNqvnnbtfbRfDntCfMRjn',\n",
       " 'bHQvFvffjpVvPSTvVm',\n",
       " 'RDLRRDLBnVbsDsqDSb',\n",
       " 'MtGGtJJnwnLltblMFCHfQcthjNfjHCQN',\n",
       " 'FQfFldFCSRRFQSQmLVfRGwGDDGZDhDGwmmhZtthZ',\n",
       " 'cTpscpCcNzNNvCBgbPPwvZGZggbghb',\n",
       " 'TNzznnccTjTspHWNzCTpNlRRQnlfdVFVfLLJFrFJQQ',\n",
       " 'LsMMLCQQQMTJnJMnsJlGlZJNvbNVGNNSDJ',\n",
       " 'fhcBqmfvmtRftcmfVVNNVbZSSDVGZmgG',\n",
       " 'BztFRjFjBchWzhvWTHWTMCdwTdTQnH',\n",
       " 'cpddMRdHTSNRtRztbG',\n",
       " 'mWvrQnQFhFNtsSNV',\n",
       " 'vrBnlLvWvlPCCnrrmBrnQQLmTMHwHHccMgggTNjdcDwjNgCw',\n",
       " 'hlRhqRnQQHcbBHGVVgRLVmrRgrLR',\n",
       " 'sCFMTMwtzFMzTwCsswWjCsdQJmJLGfrrgLfgPmPVVVmtLP',\n",
       " 'TMDjCFMTHShBQSDB',\n",
       " 'fcpssfGWpRDnvDRWvD',\n",
       " 'LMvQlPLtLQZbQjBqZBFnCRFZRFzR',\n",
       " 'jlQrvjlbjbLffpdpdrmGwr',\n",
       " 'hbRTjRRZthvSDvDn',\n",
       " 'LGrwPfrGfLjqvBsHzBrvstBv',\n",
       " 'mpCLCqqqLcwcwCLmLmwwdWgWgVVMTbbWbRdQVNjC',\n",
       " 'QLCqzhzQDqhHsCJjTcVdScccSVgs',\n",
       " 'NMPBBfwbmwmmGnfpTJJJcTrRjRJJddpr',\n",
       " 'mflmdfBBlnPBvBNGnwlGzhDqzHZzZtCLZqqltHtL',\n",
       " 'GGsFmSmFHHGZsqhSTQjlNQNzpptD',\n",
       " 'JfVJvvJfWMPPnVVJvhlNlltDldzpjpTzQn',\n",
       " 'LgLcwJffMMLcwPVvPMvsmRqTmbGGssgGssRRqG',\n",
       " 'ScnbPhwPHPTbwCGJBDtNZZPZDsttNB',\n",
       " 'FjfQlVVWrQgfQrrWfddnWfQlqJqJMNJBZJqsZtsJjJsvDjJq',\n",
       " 'lrVngVQpmmmrlnLGLLmTzchcwhHh',\n",
       " 'QZtDJqWZtWGmhJJjvVBP',\n",
       " 'crNMSpcdNNFcrdzlrsVGVnvhmnvHbjVjjrhV',\n",
       " 'NTszNMSpwTNFzcsTlsLRQLtWwZDDfQgZhggQ',\n",
       " 'mfmdLLLqsvZzjfPgPT',\n",
       " 'hppLhBNpHGrhHnQQhGMDhPbPbWzvZzbMzZFPbvbvgz',\n",
       " 'BNGGNLGcQpCcSstSRmct',\n",
       " 'mnjsJBjBRsmFsSRqqrGfrqqtrfrN',\n",
       " 'LZDHZZzdcdQzLbcgLwGtNVrlGrMVNfrllHrH',\n",
       " 'DPcZZzdQpZPzQQDpDdcpbcPgmBBBsnWfTBmnJmCsjjsPSTjJ',\n",
       " 'jwwHjCPvLVmhmRdJvr',\n",
       " 'gTBnbFGTTQMgnTbdbhHhrplhJdlV',\n",
       " 'DTScZTgSSnGTBFzjDwtLtDDHqwwL',\n",
       " 'RZWhWWRSgBRrdMRdCmtcdtLncHndqF',\n",
       " 'bssspTjbVDQGTVGTQsJpbvLtVmFLqqHgnLmCcFnmHC',\n",
       " 'DpfQJJQpDsGzzfDNhPBlPlMBNhghPZlW',\n",
       " 'VzJrJMBntJpMnBBJMDDGDQLLQwwDpQLGLG',\n",
       " 'WSFCWNWWWhQRzvNqLTRD',\n",
       " 'CbSlSlWHghChhWlcclgcWdHgfrmbmznnffMZMztrMbrJBBBJ',\n",
       " 'gtjBNTvDQNBPlBFlPFZPdP',\n",
       " 'mCmpfJCVmMzmfsHpCWdGPWCCWZGtSFtF',\n",
       " 'zJnhJnJzbbMMpnspmmfsJpLNgqtrjQvrTbTgLgtqgqLj',\n",
       " 'CLJnZZCJLJZJgZZZJMLSTgnRdFWpFdfFWBffpqDBfjFWQdRD',\n",
       " 'slNzNzzwwPQrfWmDmqBFWlDm',\n",
       " 'zwHhsVHwQcHJCgnngMZn',\n",
       " 'wLRLLddJLdZZZjHdRwgJsjqDVsDVSVGSscsVVmDq',\n",
       " 'tvMWfnhMvnvztzzVSVqqmcSSVsDGmW',\n",
       " 'TmhhpnnFlfMzMMRZRPTJRHwdPJZB',\n",
       " 'sLsQSLvcSrbQbFGlWlCD',\n",
       " 'BhgPBqBhPwmmpPlGhZMVCFFlbZGF',\n",
       " 'nCBBTPBHdHwmfCvTLStLJSctrJtt',\n",
       " 'vwNjwvBSSNndtdBJMJsLvZsJhZpPLM',\n",
       " 'TmCQDHGTVTLhPQhpZprq',\n",
       " 'CbCmmTzfVGfFGGCNbctwNPtcSnbjww',\n",
       " 'NWQQdHdTddhGrnJjqCRggvRmhzmm',\n",
       " 'wLLVHcFFFfwtFfJzqRvmRqzRVgVz',\n",
       " 'MlwFfflbLFfbwctDplwcwFMMNNWdWNTNSWDQQnsQNWWHsrQH',\n",
       " 'QlfbQrBjBQvfDBjhlpwpqbMzwWppGWqGwG',\n",
       " 'VJNcVCJgcntgRcsZWpPDPDqzPTqqnTpL',\n",
       " 'ZCRNRNmcJZCcNNVRmVdmHfjdrlfhSrvBDSfH',\n",
       " 'MzzPjGpjpGPPjdtHBfBNBQBrbtlclV',\n",
       " 'FqCnZcgcnFsWqmVHVHlgfBrbQVVb',\n",
       " 'STmCLFZWnTsWvdvSSdvPpGcP',\n",
       " 'lNjczlDNCSRMSmlR',\n",
       " 'VbhwhgwGQgwpvQpVDpSCbmfnCPfnMnmPmmBn',\n",
       " 'VhvGTdhwQwVVVsQQshjcDZdHdqzcDdJrjjzH',\n",
       " 'DhPffCSLCPCwfPPqqwqVjHFjzljppl',\n",
       " 'TBWBRWTMRBTTBTBdbQqztzQtWqzQFqbV',\n",
       " 'sgGTBGTGmNvrGfrz',\n",
       " 'hJgqGzqQmGQMQzgGmJGhJQSvZPfppjjPnZNTTTTpjWJvWp',\n",
       " 'lbwbRsRdbdmLdrllbbDcrHwwnjvjNfPWWZwWPjPjjZnTZZpf',\n",
       " 'dDDrdlDBHbDtVFSqmBShMMVF',\n",
       " 'ddvtMZJdJTtDvgtfZJfvtWZlHpGljLRcBcjplLwGRnnLGlGc',\n",
       " 'SNbFbrCNhQbrVQCQSCVzbLjBGRGRGwTBVwpnRGcHcw',\n",
       " 'bbhrTzrbrPrSQFrTTCmFQPCJmJqvJfZZWftZmZJqDvgfJv',\n",
       " 'vWLsTNNscttvNTLTLHRgcdqBnVSZVZVWVZqdSdJwwd',\n",
       " 'jDrFMhGPbGGFFPChDGpGBdngZMzVSSwZgJSqgMSV',\n",
       " 'bjjPQjphCPprhFrCCjFPDCTmcLgLtsTlmsNsQTtscQHt',\n",
       " 'PdhqLdNccGsrNLpScBnDznjnBnzppQwpHz',\n",
       " 'ftFtMbtfRMMWTvfRgRWbWMTjjzngzCzjzmDPjjwQDCDQmm',\n",
       " 'MRWVVfWfbFWWTbFWlvvRWPJGSLSLNJcPVsqJPcLSGr',\n",
       " 'fdRbPbHmnqvrvHDz',\n",
       " 'psTdcMgjjNpllVVgjJslMdpMhrttthznDttBWttBvWcnzBvh',\n",
       " 'gJjgVNFppjgCCVNsTTCsZbFwmmmmQGZSZLfwSZZd',\n",
       " 'csDFpcpJFbccqpFqpfggJJsljhvlTvQQtjwPTmjPPjRTtNvh',\n",
       " 'ZBGLddVCSVwNThhCQjPj',\n",
       " 'ZHLLLrSHGSBzWWzHWpgwcFbJsfcgJbsrgg',\n",
       " 'QJljRQLGJSNjMjQBLLJllFznzVCFpBnnzgwngpDCnD',\n",
       " 'mHWrTmWrdZHWvdrdWrdZttsFspFVcpzcwcggzpwzwVwDVp',\n",
       " 'vfzWvqTWWtPffWHqrWTZvTNSjRjQGGPPRbJbllQbMlJS',\n",
       " 'DFnFprBLpHcSlJHRBl',\n",
       " 'dbdMMCdsVWmMPlHSSVPVJfcf',\n",
       " 'sllvhgsdLThDnhQF',\n",
       " 'BSFTWCJWFJmBJdbcgDHgfDzHbncC',\n",
       " 'MjMPNjhlslPPLjPqPqVcDttzLBHcgDggDggDbB',\n",
       " 'MZhjMsBNNMhPrNjBrMhMPZWRmFmQFRRFFFQmWFQGFQ',\n",
       " 'NFgqSSrtlNbNffffffmFFZCf',\n",
       " 'WPvTBPPnBWmdJjCsPmVd',\n",
       " 'zBwhwwTRWwhvvzTvnhCTnCnSbbqlNStNbLltDRDHRHqtDR',\n",
       " 'NgggqJTHTJscdjggNVDVRcNHGLQWqpffZQGQGqpQWpWwQZfW',\n",
       " 'vvBPBhBFrzvnzSSrrSzPMtWZZcWGwmLnWQWpQlwGwpnl',\n",
       " 'rzbSCtrSttMctvvFMvrvPvgNJDRNHDsHNJsjTjsJJsVb',\n",
       " 'HbGVfpJbmbpHLBfHbdChRDDwDRhFlMlFVDFr',\n",
       " 'QzNQqcNgtqcNMjgqtntsgswRDDRQlFDSFQPDFRDwhCFR',\n",
       " 'ngscZtsqsznnnszqTnnqHfLWLWLWZmJpWMJGLBZb',\n",
       " 'cTNmqSbTBFhBQZjq',\n",
       " 'vswHWHWzHMMttvGGwgppttRfZFZjfBnQnfQZBhwQfhRB',\n",
       " 'lglsvMHHWHsWjHMtsvHvjWvTmJbCmcCcbCTcJlTmSmPSPT',\n",
       " 'JjSBbBLppbrvZGhhhvGwZNRtNMPCqCPqRgCFRNMgjP',\n",
       " 'lWlmDsdDnszRRwdCcNcdwd',\n",
       " 'TsDwwVTWsHTmTWVzQflQJbSGhZrZZQBhvBSrJZSr',\n",
       " 'JcrncrnrcZcGtJzfrrrzqbTWTlvW',\n",
       " 'SCRSDRPSLgRDCHdjjgmdDSHqQTzlmTNNVWbqfbvQzQlbfb',\n",
       " 'gpvpHHPPLdLRCSgjpLPtpZZMtnBMZJZBZBtMZs',\n",
       " 'lQSvJllvHBPPHPHWSPQQJtDtnhbwDDwwtwfhrrVw',\n",
       " 'MgLLdsMsgpRpTLLMgFrbFnfhNbbrhtwDwDDr',\n",
       " 'MqpTpqGRLpMgBzGPSvlhSBhW',\n",
       " 'NqpNNNPzhwzzshPwRPHWRmRFQWHDQPHD',\n",
       " 'VcbcnbjbbrrbbcnbZQDHmlRSVlvZWRFm',\n",
       " 'MttmjTtMrhqwhLhtdN',\n",
       " 'dMggwDwvMdqgqqtqwHnzVnmGmGtGRrFmsJrN',\n",
       " 'SlBClclffBPfZlssrGnJnZZzzznF',\n",
       " 'ljfTPplCpLcpBBPfTBfcCTbvbDMMFhqdvqWpMWHMDMpd',\n",
       " 'llTNZlhSvqMGlZMGhGgGlttrbVVwNjDbNFJbtjjDtN',\n",
       " 'fQWCBWQBBpBCsmzPmnmddQccwJtjdVbJDtDcrrjwjbFr',\n",
       " 'QzpQCRspPPPmzfppmmBBWLhgTZZTMRwSTgLlqvMqGG',\n",
       " 'HSfnNllsHThcchcJBjJhRL',\n",
       " 'FQQdzFCrFMbdFbrJBcqprcBrcBDqcB',\n",
       " 'mtmMFJJmnTfnsHvm',\n",
       " 'nddbfrBHdvbdBBhhhnWmtLsBGQCCtpmmMGPMQP',\n",
       " 'cwVVqVNggDgjZDFspptttQrsPgpttp',\n",
       " 'wDjczVZqSFDZVlSvrfhHlJHThh',\n",
       " 'CttLqSPLqLHhhCdGGTgdlZfclNlsfglbTg',\n",
       " 'nzFJpQJWVQjFmnmpjFWzVvBbMBTBNNTfTgZlTgFMNNZb',\n",
       " 'njDDWpVWQjQnzZzjJjnRRwCqPtLLrSqhSwCPCHqG',\n",
       " 'BFmNvfFNJRrdpMLLLVldWm',\n",
       " 'jPjGGwqsndHZqJqM',\n",
       " 'GtTSbjbtJjGQsQSSbPSGbzNgCRcCTCFhvfFgFFTBhfRc',\n",
       " 'rwBvGlDrBMSzMvGVSBwMSZgnJmmJqmcTTTmVCFJRcTgF',\n",
       " 'bbjpzLhHnFTLngLJ',\n",
       " 'zdHQdQQftWfNfNtsSvrsGBPGlswrlvDw',\n",
       " 'hdnMhghHZzFnZhDCCVTTTbtVmHmWbT',\n",
       " 'PQscSNcllJwzwbGmTmWVGm',\n",
       " 'sjprJpJjJNPpJBlpdFdgMzDDDhhvhd',\n",
       " 'SMwBWSBMPSfzqzPf',\n",
       " 'gJDlrFFQlgbFgvjDjTgrQQTGlhNNLdlqLGhNPqwPNPNfGf',\n",
       " 'jvwHQQjrjrJrppjvJpDFgDgHcsZZnnsVHsmMWCnsBsVVWZ',\n",
       " 'cblRJczlcBtBRCqNfGgHfpHCVHGp',\n",
       " 'WZWsLWmSPjMdWFGHTVNgLfvHqGDT',\n",
       " 'ZdmsFmZPmnZMsWWNsNjdmmmcQlrBQnBtQJtclBrtJwBzJz',\n",
       " 'wtMNCNwNqwtMMRnVcTlFtlcnFlsl',\n",
       " 'vrvrjzjZDDDwmwwVFT',\n",
       " 'jzrHjrrHjjLBPfQPjZBZzvpSMwCNRpRwSdRCNLqSShSR',\n",
       " 'BDgnhMDCDDpjDhBDJDfMSsLSZzCFTTLzTFLzTFZS',\n",
       " 'lrqrlmqbvtvWwVRtwlmrrqNvZlZSsLTTFTFZSPzZFzzTBFzz',\n",
       " 'HRRRbVmmwqhHHHhGJBcD',\n",
       " 'MvnmMvNjvvvmNnRcvzHgzMGtzhffHwHtwt',\n",
       " 'ZBBsFPPrTgCpSSBwHrLtwbHbLLtzLf',\n",
       " 'ZBZZssBdWRJgmgJdNn',\n",
       " 'TTLChzhDnjQLTDhTQJrzSbbJHsGrGrGFGb',\n",
       " 'BfvvpflfWVlVsFFvJHcFJFrJrt',\n",
       " 'ZwMBwwZPWMMpffflqlZMRnRNQLCNhPhDDNssnRQD']"
      ]
     },
     "execution_count": 2,
     "metadata": {},
     "output_type": "execute_result"
    }
   ],
   "source": [
    "rucksack_data"
   ]
  },
  {
   "cell_type": "code",
   "execution_count": 3,
   "id": "5a9ff666",
   "metadata": {},
   "outputs": [
    {
     "data": {
      "text/plain": [
       "'CjhshBJCSrTTsLwqwqwb'"
      ]
     },
     "execution_count": 3,
     "metadata": {},
     "output_type": "execute_result"
    }
   ],
   "source": [
    "rucksack_data[0]"
   ]
  },
  {
   "cell_type": "code",
   "execution_count": 4,
   "id": "ea0f116a",
   "metadata": {},
   "outputs": [
    {
     "data": {
      "text/plain": [
       "20"
      ]
     },
     "execution_count": 4,
     "metadata": {},
     "output_type": "execute_result"
    }
   ],
   "source": [
    "len(rucksack_data[0])"
   ]
  },
  {
   "cell_type": "code",
   "execution_count": 9,
   "id": "e7b0e965",
   "metadata": {},
   "outputs": [
    {
     "name": "stdout",
     "output_type": "stream",
     "text": [
      "CjhshBJCSr\n",
      "TTsLwqwqwb\n"
     ]
    }
   ],
   "source": [
    "firsthalf, secondhalf = rucksack_data[0][:len(rucksack_data[0])//2], rucksack_data[0][len(rucksack_data[0])//2:]\n",
    "print(firsthalf)\n",
    "print(secondhalf)"
   ]
  },
  {
   "cell_type": "code",
   "execution_count": 10,
   "id": "c7df39c7",
   "metadata": {},
   "outputs": [],
   "source": [
    "test_ruscksack_data = ['vJrwpWtwJgWrhcsFMMfFFhFp',\n",
    "'jqHRNqRjqzjGDLGLrsFMfFZSrLrFZsSL',\n",
    "'PmmdzqPrVvPwwTWBwg',\n",
    "'wMqvLMZHhHMvwLHjbvcjnnSBnvTQFn',\n",
    "'ttgJtRGJQctTZtZT',\n",
    "'CrZsJsPPZsGzwwsLwLmpwMDw']"
   ]
  },
  {
   "cell_type": "code",
   "execution_count": 11,
   "id": "40c121ff",
   "metadata": {},
   "outputs": [
    {
     "data": {
      "text/plain": [
       "['vJrwpWtwJgWrhcsFMMfFFhFp',\n",
       " 'jqHRNqRjqzjGDLGLrsFMfFZSrLrFZsSL',\n",
       " 'PmmdzqPrVvPwwTWBwg',\n",
       " 'wMqvLMZHhHMvwLHjbvcjnnSBnvTQFn',\n",
       " 'ttgJtRGJQctTZtZT',\n",
       " 'CrZsJsPPZsGzwwsLwLmpwMDw']"
      ]
     },
     "execution_count": 11,
     "metadata": {},
     "output_type": "execute_result"
    }
   ],
   "source": [
    "test_ruscksack_data"
   ]
  },
  {
   "cell_type": "code",
   "execution_count": 61,
   "id": "71e0c8cf",
   "metadata": {},
   "outputs": [
    {
     "name": "stdout",
     "output_type": "stream",
     "text": [
      "vJrwpWtwJgWr\n",
      "hcsFMMfFFhFp\n"
     ]
    }
   ],
   "source": [
    "firsthalf, secondhalf = test_ruscksack_data[0][:len(test_ruscksack_data[0])//2], test_ruscksack_data[0][len(test_ruscksack_data[0])//2:]\n",
    "print(firsthalf)\n",
    "print(secondhalf)"
   ]
  },
  {
   "cell_type": "code",
   "execution_count": 20,
   "id": "398b12e6",
   "metadata": {},
   "outputs": [
    {
     "data": {
      "text/plain": [
       "{'D', 'G', 'H', 'L', 'N', 'R', 'j', 'q', 'z'}"
      ]
     },
     "execution_count": 20,
     "metadata": {},
     "output_type": "execute_result"
    }
   ],
   "source": [
    "set(firsthalf)"
   ]
  },
  {
   "cell_type": "code",
   "execution_count": 21,
   "id": "f1924d2a",
   "metadata": {},
   "outputs": [
    {
     "data": {
      "text/plain": [
       "{'F', 'L', 'M', 'S', 'Z', 'f', 'r', 's'}"
      ]
     },
     "execution_count": 21,
     "metadata": {},
     "output_type": "execute_result"
    }
   ],
   "source": [
    "set(secondhalf)"
   ]
  },
  {
   "cell_type": "code",
   "execution_count": 62,
   "id": "9980be6f",
   "metadata": {},
   "outputs": [
    {
     "data": {
      "text/plain": [
       "{'p'}"
      ]
     },
     "execution_count": 62,
     "metadata": {},
     "output_type": "execute_result"
    }
   ],
   "source": [
    "(set(firsthalf) & set(secondhalf))"
   ]
  },
  {
   "cell_type": "code",
   "execution_count": 30,
   "id": "b72b223f",
   "metadata": {},
   "outputs": [
    {
     "name": "stdout",
     "output_type": "stream",
     "text": [
      "{'a': 1, 'b': 1, 'c': 1, 'd': 1, 'e': 1, 'f': 1, 'g': 1, 'h': 1, 'i': 1, 'j': 1, 'k': 1, 'l': 1, 'm': 1, 'n': 1, 'o': 1, 'p': 1, 'q': 1, 'r': 1, 's': 1, 't': 1, 'u': 1, 'v': 1, 'w': 1, 'x': 1, 'y': 1, 'z': 1}\n"
     ]
    }
   ],
   "source": [
    "import string\n",
    "d = dict.fromkeys(string.ascii_lowercase, 1)\n",
    "print(d)"
   ]
  },
  {
   "cell_type": "code",
   "execution_count": 31,
   "id": "82a0d22b",
   "metadata": {},
   "outputs": [
    {
     "data": {
      "text/plain": [
       "'abcdefghijklmnopqrstuvwxyz'"
      ]
     },
     "execution_count": 31,
     "metadata": {},
     "output_type": "execute_result"
    }
   ],
   "source": [
    "string.ascii_lowercase"
   ]
  },
  {
   "cell_type": "code",
   "execution_count": 42,
   "id": "fa23d8dc",
   "metadata": {},
   "outputs": [],
   "source": [
    "lower_dict = {}"
   ]
  },
  {
   "cell_type": "code",
   "execution_count": 45,
   "id": "f555106f",
   "metadata": {},
   "outputs": [
    {
     "data": {
      "text/plain": [
       "{'a': 1}"
      ]
     },
     "execution_count": 45,
     "metadata": {},
     "output_type": "execute_result"
    }
   ],
   "source": [
    "lower_dict"
   ]
  },
  {
   "cell_type": "code",
   "execution_count": 44,
   "id": "3cd9e3a8",
   "metadata": {},
   "outputs": [],
   "source": [
    "lower_dict[string.ascii_lowercase[0]] = 1"
   ]
  },
  {
   "cell_type": "code",
   "execution_count": 51,
   "id": "79cb5603",
   "metadata": {},
   "outputs": [],
   "source": [
    "counter = 1\n",
    "lower_dict = {}\n",
    "for i in string.ascii_lowercase:\n",
    "    lower_dict[i]=counter\n",
    "    counter += 1"
   ]
  },
  {
   "cell_type": "code",
   "execution_count": 36,
   "id": "22f87728",
   "metadata": {},
   "outputs": [
    {
     "data": {
      "text/plain": [
       "'a'"
      ]
     },
     "execution_count": 36,
     "metadata": {},
     "output_type": "execute_result"
    }
   ],
   "source": [
    "string.ascii_lowercase[0]"
   ]
  },
  {
   "cell_type": "code",
   "execution_count": 52,
   "id": "b6c8e45f",
   "metadata": {},
   "outputs": [
    {
     "data": {
      "text/plain": [
       "{'a': 1,\n",
       " 'b': 2,\n",
       " 'c': 3,\n",
       " 'd': 4,\n",
       " 'e': 5,\n",
       " 'f': 6,\n",
       " 'g': 7,\n",
       " 'h': 8,\n",
       " 'i': 9,\n",
       " 'j': 10,\n",
       " 'k': 11,\n",
       " 'l': 12,\n",
       " 'm': 13,\n",
       " 'n': 14,\n",
       " 'o': 15,\n",
       " 'p': 16,\n",
       " 'q': 17,\n",
       " 'r': 18,\n",
       " 's': 19,\n",
       " 't': 20,\n",
       " 'u': 21,\n",
       " 'v': 22,\n",
       " 'w': 23,\n",
       " 'x': 24,\n",
       " 'y': 25,\n",
       " 'z': 26}"
      ]
     },
     "execution_count": 52,
     "metadata": {},
     "output_type": "execute_result"
    }
   ],
   "source": [
    "lower_dict"
   ]
  },
  {
   "cell_type": "code",
   "execution_count": 64,
   "id": "f2b0d96b",
   "metadata": {},
   "outputs": [
    {
     "data": {
      "text/plain": [
       "['p']"
      ]
     },
     "execution_count": 64,
     "metadata": {},
     "output_type": "execute_result"
    }
   ],
   "source": [
    "test_result = list(set(firsthalf).intersection(secondhalf))\n",
    "test_result"
   ]
  },
  {
   "cell_type": "code",
   "execution_count": 69,
   "id": "2c8bb307",
   "metadata": {},
   "outputs": [
    {
     "data": {
      "text/plain": [
       "False"
      ]
     },
     "execution_count": 69,
     "metadata": {},
     "output_type": "execute_result"
    }
   ],
   "source": [
    "test_result[0].isupper()"
   ]
  },
  {
   "cell_type": "code",
   "execution_count": 67,
   "id": "fc337b22",
   "metadata": {},
   "outputs": [
    {
     "data": {
      "text/plain": [
       "16"
      ]
     },
     "execution_count": 67,
     "metadata": {},
     "output_type": "execute_result"
    }
   ],
   "source": [
    "lower_dict[test_result[0]]"
   ]
  },
  {
   "cell_type": "code",
   "execution_count": 70,
   "id": "a758a06c",
   "metadata": {},
   "outputs": [
    {
     "name": "stdout",
     "output_type": "stream",
     "text": [
      "16\n"
     ]
    }
   ],
   "source": [
    "if test_result[0].islower():\n",
    "    print(lower_dict[test_result[0]])\n",
    "else:\n",
    "    print(upper_dict[test_result[0]])"
   ]
  },
  {
   "cell_type": "code",
   "execution_count": 55,
   "id": "fd15d7ae",
   "metadata": {},
   "outputs": [],
   "source": [
    "counter = 27\n",
    "upper_dict = {}\n",
    "for i in string.ascii_uppercase:\n",
    "    upper_dict[i]=counter\n",
    "    counter += 1"
   ]
  },
  {
   "cell_type": "code",
   "execution_count": 56,
   "id": "dfcf2080",
   "metadata": {},
   "outputs": [
    {
     "data": {
      "text/plain": [
       "{'A': 27,\n",
       " 'B': 28,\n",
       " 'C': 29,\n",
       " 'D': 30,\n",
       " 'E': 31,\n",
       " 'F': 32,\n",
       " 'G': 33,\n",
       " 'H': 34,\n",
       " 'I': 35,\n",
       " 'J': 36,\n",
       " 'K': 37,\n",
       " 'L': 38,\n",
       " 'M': 39,\n",
       " 'N': 40,\n",
       " 'O': 41,\n",
       " 'P': 42,\n",
       " 'Q': 43,\n",
       " 'R': 44,\n",
       " 'S': 45,\n",
       " 'T': 46,\n",
       " 'U': 47,\n",
       " 'V': 48,\n",
       " 'W': 49,\n",
       " 'X': 50,\n",
       " 'Y': 51,\n",
       " 'Z': 52}"
      ]
     },
     "execution_count": 56,
     "metadata": {},
     "output_type": "execute_result"
    }
   ],
   "source": [
    "upper_dict"
   ]
  },
  {
   "cell_type": "code",
   "execution_count": 76,
   "id": "59ad4c05",
   "metadata": {},
   "outputs": [],
   "source": [
    "# go through each item, get overlapping item, get priority number, add to total:\n",
    "\n",
    "\n",
    "def calc_priority(input_data):\n",
    "    result = 0\n",
    "    for i in input_data:\n",
    "        firsthalf, secondhalf = i[:len(i)//2], i[len(i)//2:]\n",
    "        shared_item = list(set(firsthalf).intersection(secondhalf))\n",
    "        \n",
    "        # check if shared item is upper or lower, get priority from appropriate dict:\n",
    "        if shared_item[0].islower():\n",
    "            result += lower_dict[shared_item[0]]\n",
    "        else:\n",
    "            result += upper_dict[shared_item[0]]\n",
    "    return result"
   ]
  },
  {
   "cell_type": "code",
   "execution_count": 77,
   "id": "20c00e91",
   "metadata": {},
   "outputs": [
    {
     "data": {
      "text/plain": [
       "157"
      ]
     },
     "execution_count": 77,
     "metadata": {},
     "output_type": "execute_result"
    }
   ],
   "source": [
    "calc_priority(test_ruscksack_data)"
   ]
  },
  {
   "cell_type": "code",
   "execution_count": 57,
   "id": "4fcba514",
   "metadata": {},
   "outputs": [
    {
     "name": "stdout",
     "output_type": "stream",
     "text": [
      "vJrwpWtwJgWrhcsFMMfFFhFp\n",
      "jqHRNqRjqzjGDLGLrsFMfFZSrLrFZsSL\n",
      "PmmdzqPrVvPwwTWBwg\n",
      "wMqvLMZHhHMvwLHjbvcjnnSBnvTQFn\n",
      "ttgJtRGJQctTZtZT\n",
      "CrZsJsPPZsGzwwsLwLmpwMDw\n"
     ]
    }
   ],
   "source": [
    "for i in test_ruscksack_data:\n",
    "    print(i)"
   ]
  },
  {
   "cell_type": "code",
   "execution_count": 78,
   "id": "c5ff9cbd",
   "metadata": {},
   "outputs": [
    {
     "data": {
      "text/plain": [
       "7766"
      ]
     },
     "execution_count": 78,
     "metadata": {},
     "output_type": "execute_result"
    }
   ],
   "source": [
    "# get results for part 1:\n",
    "\n",
    "calc_priority(rucksack_data)"
   ]
  },
  {
   "cell_type": "markdown",
   "id": "dc497ce1",
   "metadata": {},
   "source": [
    "--- Part Two ---\n",
    "\n",
    "As you finish identifying the misplaced items, the Elves come to you with another issue.\n",
    "\n",
    "For safety, the Elves are divided into groups of three. Every Elf carries a badge that identifies their group. For efficiency, within each group of three Elves, the badge is the only item type carried by all three Elves. That is, if a group's badge is item type B, then all three Elves will have item type B somewhere in their rucksack, and at most two of the Elves will be carrying any other item type.\n",
    "\n",
    "The problem is that someone forgot to put this year's updated authenticity sticker on the badges. All of the badges need to be pulled out of the rucksacks so the new authenticity stickers can be attached.\n",
    "\n",
    "Additionally, nobody wrote down which item type corresponds to each group's badges. The only way to tell which item type is the right one is by finding the one item type that is common between all three Elves in each group.\n",
    "\n",
    "Every set of three lines in your list corresponds to a single group, but each group can have a different badge item type. So, in the above example, the first group's rucksacks are the first three lines:\n",
    "\n",
    "vJrwpWtwJgWrhcsFMMfFFhFp\n",
    "jqHRNqRjqzjGDLGLrsFMfFZSrLrFZsSL\n",
    "PmmdzqPrVvPwwTWBwg\n",
    "And the second group's rucksacks are the next three lines:\n",
    "\n",
    "wMqvLMZHhHMvwLHjbvcjnnSBnvTQFn\n",
    "ttgJtRGJQctTZtZT\n",
    "CrZsJsPPZsGzwwsLwLmpwMDw\n",
    "In the first group, the only item type that appears in all three rucksacks is lowercase r; this must be their badges. In the second group, their badge item type must be Z.\n",
    "\n",
    "Priorities for these items must still be found to organize the sticker attachment efforts: here, they are 18 (r) for the first group and 52 (Z) for the second group. The sum of these is 70.\n",
    "\n",
    "Find the item type that corresponds to the badges of each three-Elf group. What is the sum of the priorities of those item types?"
   ]
  },
  {
   "cell_type": "code",
   "execution_count": 81,
   "id": "bfb11206",
   "metadata": {},
   "outputs": [
    {
     "data": {
      "text/plain": [
       "300"
      ]
     },
     "execution_count": 81,
     "metadata": {},
     "output_type": "execute_result"
    }
   ],
   "source": [
    "len(rucksack_data)"
   ]
  },
  {
   "cell_type": "code",
   "execution_count": 104,
   "id": "260c6023",
   "metadata": {},
   "outputs": [
    {
     "data": {
      "text/plain": [
       "['CjhshBJCSrTTsLwqwqwb',\n",
       " 'GtmnFHlDfcpHbLZjtTTRLWwb',\n",
       " 'fDfNHHjVFNvvrvVBJJdS',\n",
       " 'PPWvWQjPhrPQwlMWJJdMDGbJTdCJ',\n",
       " 'rsqsStgNNggBNBZHSrJGdJdCFRRZCFbGbTdJ',\n",
       " 'qgBqqHzzggBpzSnBNqNSSSgcfhrVlVmwPljQVLVwVvQmmzVl']"
      ]
     },
     "execution_count": 104,
     "metadata": {},
     "output_type": "execute_result"
    }
   ],
   "source": [
    "rucksack_data[0:6]"
   ]
  },
  {
   "cell_type": "code",
   "execution_count": 84,
   "id": "05655ea2",
   "metadata": {},
   "outputs": [],
   "source": [
    "shared_item = list(set(firsthalf).intersection(secondhalf))"
   ]
  },
  {
   "cell_type": "code",
   "execution_count": 85,
   "id": "3536635b",
   "metadata": {},
   "outputs": [
    {
     "data": {
      "text/plain": [
       "['vJrwpWtwJgWrhcsFMMfFFhFp',\n",
       " 'jqHRNqRjqzjGDLGLrsFMfFZSrLrFZsSL',\n",
       " 'PmmdzqPrVvPwwTWBwg',\n",
       " 'wMqvLMZHhHMvwLHjbvcjnnSBnvTQFn',\n",
       " 'ttgJtRGJQctTZtZT',\n",
       " 'CrZsJsPPZsGzwwsLwLmpwMDw']"
      ]
     },
     "execution_count": 85,
     "metadata": {},
     "output_type": "execute_result"
    }
   ],
   "source": [
    "test_ruscksack_data"
   ]
  },
  {
   "cell_type": "code",
   "execution_count": 88,
   "id": "a2226c96",
   "metadata": {},
   "outputs": [
    {
     "data": {
      "text/plain": [
       "['s', 'M', 'r', 'F', 'f']"
      ]
     },
     "execution_count": 88,
     "metadata": {},
     "output_type": "execute_result"
    }
   ],
   "source": [
    "temp_result = list(set(test_ruscksack_data[0]).intersection(test_ruscksack_data[1]))\n",
    "temp_result"
   ]
  },
  {
   "cell_type": "code",
   "execution_count": 90,
   "id": "872fb0dc",
   "metadata": {},
   "outputs": [
    {
     "data": {
      "text/plain": [
       "['r']"
      ]
     },
     "execution_count": 90,
     "metadata": {},
     "output_type": "execute_result"
    }
   ],
   "source": [
    "# alright, this works (get intersection for 1st 2, then get intersection for third)\n",
    "list(set(temp_result).intersection(test_ruscksack_data[2]))"
   ]
  },
  {
   "cell_type": "code",
   "execution_count": 127,
   "id": "ba57286c",
   "metadata": {},
   "outputs": [],
   "source": [
    "def triplet_calc_priority(input_data):\n",
    "    result = 0\n",
    "    list_of_groups = list(zip(*(iter(rucksack_data),) * 3))\n",
    "    for i in list_of_groups:\n",
    "        # compare items 1/2:\n",
    "        temp_result = list(set(i[0]).intersection(i[1]))\n",
    "        # compare temp result to 3rd item:\n",
    "        shared_item = list(set(temp_result).intersection(i[2]))\n",
    "\n",
    "        \n",
    "        # check if shared item is upper or lower, get priority from appropriate dict:\n",
    "        if shared_item[0].islower():\n",
    "            result += lower_dict[shared_item[0]]\n",
    "        else:\n",
    "            result += upper_dict[shared_item[0]]\n",
    "    return result"
   ]
  },
  {
   "cell_type": "code",
   "execution_count": 130,
   "id": "ef8db96e",
   "metadata": {},
   "outputs": [
    {
     "data": {
      "text/plain": [
       "2415"
      ]
     },
     "execution_count": 130,
     "metadata": {},
     "output_type": "execute_result"
    }
   ],
   "source": [
    "# this is correct: 2415\n",
    "triplet_calc_priority(rucksack_data)"
   ]
  },
  {
   "cell_type": "code",
   "execution_count": null,
   "id": "0813ec68",
   "metadata": {},
   "outputs": [],
   "source": []
  },
  {
   "cell_type": "code",
   "execution_count": null,
   "id": "7a7aac85",
   "metadata": {},
   "outputs": [],
   "source": []
  },
  {
   "cell_type": "code",
   "execution_count": null,
   "id": "109e7e81",
   "metadata": {},
   "outputs": [],
   "source": []
  },
  {
   "cell_type": "code",
   "execution_count": 107,
   "id": "49bba7d8",
   "metadata": {},
   "outputs": [
    {
     "data": {
      "text/plain": [
       "['CjhshBJCSrTTsLwqwqwb',\n",
       " 'GtmnFHlDfcpHbLZjtTTRLWwb',\n",
       " 'fDfNHHjVFNvvrvVBJJdS',\n",
       " 'PPWvWQjPhrPQwlMWJJdMDGbJTdCJ',\n",
       " 'rsqsStgNNggBNBZHSrJGdJdCFRRZCFbGbTdJ',\n",
       " 'qgBqqHzzggBpzSnBNqNSSSgcfhrVlVmwPljQVLVwVvQmmzVl',\n",
       " 'bBBGBfmGvBTnGtGJBtGpcJbZrrddjqrZhDldwdcqrjrjDr',\n",
       " 'HWPSQMsPHFsMWPVVMVSHCwDCDwwZZvwjwQZZwjdd',\n",
       " 'vVHPgHHFRLfpfJTLLtJL']"
      ]
     },
     "execution_count": 107,
     "metadata": {},
     "output_type": "execute_result"
    }
   ],
   "source": [
    "rucksack_data[0:9]"
   ]
  },
  {
   "cell_type": "code",
   "execution_count": 120,
   "id": "f92238b9",
   "metadata": {},
   "outputs": [
    {
     "data": {
      "text/plain": [
       "300"
      ]
     },
     "execution_count": 120,
     "metadata": {},
     "output_type": "execute_result"
    }
   ],
   "source": [
    "len(rucksack_data)"
   ]
  },
  {
   "cell_type": "code",
   "execution_count": 115,
   "id": "1baf6349",
   "metadata": {},
   "outputs": [],
   "source": [
    "list_of_groups = list(zip(*(iter(rucksack_data),) * 3))"
   ]
  },
  {
   "cell_type": "code",
   "execution_count": 118,
   "id": "b780d31d",
   "metadata": {},
   "outputs": [
    {
     "data": {
      "text/plain": [
       "'CjhshBJCSrTTsLwqwqwb'"
      ]
     },
     "execution_count": 118,
     "metadata": {},
     "output_type": "execute_result"
    }
   ],
   "source": [
    "list_of_groups[0][0]"
   ]
  },
  {
   "cell_type": "code",
   "execution_count": 119,
   "id": "ecd6dc91",
   "metadata": {},
   "outputs": [
    {
     "data": {
      "text/plain": [
       "100"
      ]
     },
     "execution_count": 119,
     "metadata": {},
     "output_type": "execute_result"
    }
   ],
   "source": [
    "len(list_of_groups)"
   ]
  },
  {
   "cell_type": "code",
   "execution_count": 121,
   "id": "7cccb075",
   "metadata": {},
   "outputs": [
    {
     "data": {
      "text/plain": [
       "[('CjhshBJCSrTTsLwqwqwb', 'GtmnFHlDfcpHbLZjtTTRLWwb', 'fDfNHHjVFNvvrvVBJJdS'),\n",
       " ('PPWvWQjPhrPQwlMWJJdMDGbJTdCJ',\n",
       "  'rsqsStgNNggBNBZHSrJGdJdCFRRZCFbGbTdJ',\n",
       "  'qgBqqHzzggBpzSnBNqNSSSgcfhrVlVmwPljQVLVwVvQmmzVl'),\n",
       " ('bBBGBfmGvBTnGtGJBtGpcJbZrrddjqrZhDldwdcqrjrjDr',\n",
       "  'HWPSQMsPHFsMWPVVMVSHCwDCDwwZZvwjwQZZwjdd',\n",
       "  'vVHPgHHFRLfpfJTLLtJL'),\n",
       " ('LWLZhDBHhWWHjBwHwBjCTrBnnrQTQCJTJpTQBQ',\n",
       "  'vvdcqbRmvwSFmRqPFSqwdvtQnrpCQJpNNVnrptVCtCCP',\n",
       "  'wRSffqlFgvvdgdlzhLWWDzLljZhhGL'),\n",
       " ('LNbTbPdTNgnShgSjmHcqtQGCtrctCPcQqc',\n",
       "  'vzWZDZZBlDwlzvDRZfFBRzVBtMMGHCcpjrqBGMtQQppqHtCq',\n",
       "  'DfRvFZjZRsRjlVWsjFlWVWvdSdbhsSmnSngTdTSTsJdSLm'),\n",
       " ('nnZRbfZRTZfRsbZTFPRfpbRJdqqQNPwNqvvwvvvSwdQqdS',\n",
       "  'WjDzjMWMHpQwcSQWcJSS',\n",
       "  'hrHhHDgpphmjtMrGLDmGgmnbsflbfZCsnsClltsVsfRR'),\n",
       " ('QFngsFnGdLGFGVRgLLqWPQPWvBrMDppCPrDB',\n",
       "  'NfcHZZzbHthSZtNtNfhHWhClDvCqlrqBvrCpWMWB',\n",
       "  'fSMSHjbTMVgVVngVgT'),\n",
       " ('llnMffwbvCnffHvJJPJpPBNVVZDJDmmS',\n",
       "  'QssGGHhRgcqjRRTWGWRGDZcVFZBpNBmPFBDSmZNP',\n",
       "  'hzsRHWQshzgRjjsgQRTsbwzCtnrrlnrwzMCtvMff'),\n",
       " ('HdddHHmtDMDTqHHSftmqdmfdssGzrsjVGtrllWlGZGsnlnnp',\n",
       "  'BQNPNPgPhBBhCJQhbCgCnrrnbZnlWznzpGssllVW',\n",
       "  'LFNZRvCPCFZmHmTLcwdwcq'),\n",
       " ('zQRDChCnVhqRllpzQlzqCVVzPvNHTTFFHlNPsPNvTBPBHBFT',\n",
       "  'wcfdfDmfPHjdsHPs',\n",
       "  'cwGMwMMbwbmwJZfDSMmfwcpRVWzQqnnnzGVVnhqRVCph'),\n",
       " ('CScCSPcPszFJWSMjGZHMpGMjvG',\n",
       "  'TTQfQvBTVBfrDVRDVqGMmjZqnpnGmMpnnpZZ',\n",
       "  'NDdbrQdVQDNNfvTVNdBfrDBJFcsLWcCJzWFCcFLbFcFJsc'),\n",
       " ('WWdzhpHcHHrtzGBJMwmjJGmBtP',\n",
       "  'CqsgqNrVnlCBCvPjCBmPJm',\n",
       "  'LDDDLnVsqsgTQsgFcQzbQdprbWHzdb'),\n",
       " ('nFpNPGLGrntlrFLpflfBTcJwSgwQvGwbgSvbvJvT',\n",
       "  'DHZWmMDZZDHPMHsDJQbbgSJcvbQgjwJM',\n",
       "  'CRdzzdDDVRHWWNlPfPzllnFLlL'),\n",
       " ('ZJVqGSVCJCSgdSvtjtvcjcjbNl',\n",
       "  'pmDWFnDFMnDdFLDHffjcbjjtBNctBjBMbMcl',\n",
       "  'dLnfmdLLmrWsgZqCThgssgsq'),\n",
       " ('CLsvLLQvrlrrpLpw',\n",
       "  'tmTHnNtgmzgWmpjlpjnwrrlRjw',\n",
       "  'WHgTdmNJmJTDDrtFWsVGQqBQqcCCbhdvCB'),\n",
       " ('jwCHwmWRTWRWJwfcgVgflvPqPBPH',\n",
       "  'MpphdbZZpZMNZpsdpZLMgjBlBqDvLPjfLVPBgPfv',\n",
       "  'ZdrZsjQbnMCGwrRwzmTr'),\n",
       " ('CMDsWppsfhjNNzzzcBrbPgnrrnVBQHBNrV',\n",
       "  'ZmGdTdvtStFDtTvtBHgPHnPHgnrnHVmH',\n",
       "  'ZtLZdwdGqtZqLTLtwvfjDWcRscqMCDsCfWjf'),\n",
       " ('QQPPfPjLNLfSShfNRSRrrGHzvHrvlvnHRDJJ',\n",
       "  'WCMJJVBwbGCbnbCl',\n",
       "  'gBJmTBBMchsSjgfS'),\n",
       " ('NvCQGNRQQrWRpWhhvQrNLgrJqTVzzLFZsJqJZFcJTqFMJJ',\n",
       "  'ttdBllbCSdcsJVVVzVMb',\n",
       "  'CnwfwwdlnPGQgpnPvv'),\n",
       " ('WQmnmBBmWRCgDpndbD', 'SvjsqGGqTSTdbggS', 'lZbFJqLjvHZrcZNHcc'),\n",
       " ('gcgQhclQlntnnvBMZlwffTBLwv',\n",
       "  'JqzNpqbmpJCbbzCfNFFqfWpZvDVTqBMTrTLvrTMTrvrZTT',\n",
       "  'NbJWCpRWSFWNWJCzmRNRdchcdHcchnfncnhntcdjng'),\n",
       " ('JvDwhPWPzvzPDggWlvCQgPtHgtGnHtNqLqTnHTHHnnVg',\n",
       "  'jBsfcbpdQsRcsSpRcjZjHNGtnnVncVtqTVVNVNNT',\n",
       "  'prBbsjQdSbZdSFwMzrhPMWwzwlvC'),\n",
       " ('SStQfWQmJQjjhphQ',\n",
       "  'sMVTwvLTswLwwqMPnnhglbHgglPh',\n",
       "  'RDrRVrVCsrssBFWffFCZthfNFN'),\n",
       " ('ZnpgzcqgmhHtfwSDwplwVV',\n",
       "  'QCrBNLdLrrnSVSrl',\n",
       "  'LQQLLLjTBjGWnNBBGLFZbGgMcsMsZzbgbZZgsZ'),\n",
       " ('ZnbzbhqPbMrnDGjtQGSRVVMGpf',\n",
       "  'gFdTlNJFGVGChJCt',\n",
       "  'HgswWLNdhwTTwWsNNvzPmbvbcZbrsbrmzP'),\n",
       " ('SHpDqcJvBmJgJJHgDphHmvhTddWlLsZTTdFWMMsWtthZ',\n",
       "  'GPrRCPfRfjjwffjrrnPVPsTLZFwLWMzLdTsTFzzFWT',\n",
       "  'QPfZVNfbfQnRVjCRrPJBvSJgpDSDBHNgBJpB'),\n",
       " ('mjpcZcHcrqjrNmNpNmptHNHWwvCwgwCgMmQgRQsRMgwMvnCg',\n",
       "  'DfSfFSVtDSTJVfdGJMwPnMRwnRCPQgMR',\n",
       "  'DDfzDVdbTbzVDDtrtqlHptqbjbql'),\n",
       " ('lsBgqLqhqqgBBvGLBwQJJHRpJCJDHMwhwz',\n",
       "  'NCVfntPnVnfrZtfdbTntnnWDDMDwwRRJmJDWRWJmHRzpJD',\n",
       "  'ZrZbtbSZfdNVfbtCrbPTndsFvFLFSqcGLBFgvgjsgcqj'),\n",
       " ('gwRCCDmlZtPDdtBBPM',\n",
       "  'VLrjccJVcJTfTtLjscVBHjHPjPQQSPpBHMjBhP',\n",
       "  'rfcJrzvvctrscvzRqGRCZvmqbmwqZw'),\n",
       " ('nffqBWfRfRnpBfznpWTpTlWNNbcrDcbGbPhrGVwGlllPGN',\n",
       "  'MsJQsmQLjMMFsmjbPZNcNbrbmGVhZZ',\n",
       "  'LCJsFSsJFMFpfrTBWSvqpB'),\n",
       " ('vSspfvprpTNTZNTj',\n",
       "  'LlFQCtnwMqqSmCMPmMSwClCJhBDJZZJZZjBTjQNjJbdjTT',\n",
       "  'PHtwMLPqCHsfVRGvSR'),\n",
       " ('HjLDQMjtRvTmfTfmtf',\n",
       "  'BddChcvvhwhqgmqTfnSmdg',\n",
       "  'NBVVZJhZVhZsJJzhJZNHrRMPbQvHrjPvPDRvRN'),\n",
       " ('GgwtwntLQmNjvRGJGv', 'wwzWzrzrqWjRlhJrNlrj', 'wBWSCMPMcdnHsTHPsn'),\n",
       " ('MggMDDJzdbvsjCJvWJnJ',\n",
       "  'THBGGScfHwHqHGTGTBqfSWCsnWBCbvsbshjRnZWZCn',\n",
       "  'HwltftNGtmHHGqNlGmfPrVDDgzpVplpzDpVPbP'),\n",
       " ('shMdsCMpQMCZMQsZQVDJnvvPpPLSvLSLLV',\n",
       "  'RmgzGTGRmClLNCvzVn',\n",
       "  'rCrRftmftWjbTttjcdFZBcjdsFqZQFjZ'),\n",
       " ('qLwvNLtLvPGqSltLLqvNSpflMfQfMpMnBBggslMpfB',\n",
       "  'VDcVzzDRRVTDgMPBBgdfQD',\n",
       "  'VVWrcHbVzrzVjHPNqSmtqJJwjLGN'),\n",
       " ('nBswlBBhntTttbFVnt',\n",
       "  'JNjTHZvLHDLVVLtCCFFPLz',\n",
       "  'THvNddgZWQNDNZgjZSfGwfsBrhmfGBhcWs'),\n",
       " ('cCSbPmJqwqJjgJtTzJZT', 'BpBTFFTQZzQgNgZv', 'sFRVpsfrfrLfslwTcTccwcnCcTRC'),\n",
       " ('DLjLwDPjVPnWWvVWVjcqzSCJTzSzMTtSrqRqJn',\n",
       "  'bdNGgmbGHdZdHbSRqrTJzrMtTR',\n",
       "  'dhGmFffGQsWjshcVpt'),\n",
       " ('TrGzZpzWhCHcPPpF',\n",
       "  'sqsJqtlqDVDJVJttgNSbsQPfcjQcBQjhFFRSPQHFRc',\n",
       "  'VgqbtllbdvNtDdLZrHWGmwdrLM'),\n",
       " ('DNrqBvvZZNDDHBFJmMNbLMRctztznRsbds',\n",
       "  'hlSlPPWfQCChPtWWfjTwLzbdRcbMsbMjnRLsgzsz',\n",
       "  'PCfWwlQpTTVmmtqmVGrvmt'),\n",
       " ('lLrlLRbgrjRbRjFlRrnRRdgPdWdCwdWqmWPwqScdPc',\n",
       "  'tDZLNGHsNQZDNBGHTCVSddVCPwVqVtcdWV',\n",
       "  'BhGLBNvhHDTZDjfRvbfjljbbJf'),\n",
       " ('McRctHfDctZGlZZWgpcW',\n",
       "  'TTQLQqLSLqTqhdLqPzLqLwrpsGpWVGFZGrlgWZGhFllV',\n",
       "  'QNdzbQgzSvqPzqNqvnnbtfbRfDntCfMRjn'),\n",
       " ('bHQvFvffjpVvPSTvVm',\n",
       "  'RDLRRDLBnVbsDsqDSb',\n",
       "  'MtGGtJJnwnLltblMFCHfQcthjNfjHCQN'),\n",
       " ('FQfFldFCSRRFQSQmLVfRGwGDDGZDhDGwmmhZtthZ',\n",
       "  'cTpscpCcNzNNvCBgbPPwvZGZggbghb',\n",
       "  'TNzznnccTjTspHWNzCTpNlRRQnlfdVFVfLLJFrFJQQ'),\n",
       " ('LsMMLCQQQMTJnJMnsJlGlZJNvbNVGNNSDJ',\n",
       "  'fhcBqmfvmtRftcmfVVNNVbZSSDVGZmgG',\n",
       "  'BztFRjFjBchWzhvWTHWTMCdwTdTQnH'),\n",
       " ('cpddMRdHTSNRtRztbG',\n",
       "  'mWvrQnQFhFNtsSNV',\n",
       "  'vrBnlLvWvlPCCnrrmBrnQQLmTMHwHHccMgggTNjdcDwjNgCw'),\n",
       " ('hlRhqRnQQHcbBHGVVgRLVmrRgrLR',\n",
       "  'sCFMTMwtzFMzTwCsswWjCsdQJmJLGfrrgLfgPmPVVVmtLP',\n",
       "  'TMDjCFMTHShBQSDB'),\n",
       " ('fcpssfGWpRDnvDRWvD',\n",
       "  'LMvQlPLtLQZbQjBqZBFnCRFZRFzR',\n",
       "  'jlQrvjlbjbLffpdpdrmGwr'),\n",
       " ('hbRTjRRZthvSDvDn',\n",
       "  'LGrwPfrGfLjqvBsHzBrvstBv',\n",
       "  'mpCLCqqqLcwcwCLmLmwwdWgWgVVMTbbWbRdQVNjC'),\n",
       " ('QLCqzhzQDqhHsCJjTcVdScccSVgs',\n",
       "  'NMPBBfwbmwmmGnfpTJJJcTrRjRJJddpr',\n",
       "  'mflmdfBBlnPBvBNGnwlGzhDqzHZzZtCLZqqltHtL'),\n",
       " ('GGsFmSmFHHGZsqhSTQjlNQNzpptD',\n",
       "  'JfVJvvJfWMPPnVVJvhlNlltDldzpjpTzQn',\n",
       "  'LgLcwJffMMLcwPVvPMvsmRqTmbGGssgGssRRqG'),\n",
       " ('ScnbPhwPHPTbwCGJBDtNZZPZDsttNB',\n",
       "  'FjfQlVVWrQgfQrrWfddnWfQlqJqJMNJBZJqsZtsJjJsvDjJq',\n",
       "  'lrVngVQpmmmrlnLGLLmTzchcwhHh'),\n",
       " ('QZtDJqWZtWGmhJJjvVBP',\n",
       "  'crNMSpcdNNFcrdzlrsVGVnvhmnvHbjVjjrhV',\n",
       "  'NTszNMSpwTNFzcsTlsLRQLtWwZDDfQgZhggQ'),\n",
       " ('mfmdLLLqsvZzjfPgPT',\n",
       "  'hppLhBNpHGrhHnQQhGMDhPbPbWzvZzbMzZFPbvbvgz',\n",
       "  'BNGGNLGcQpCcSstSRmct'),\n",
       " ('mnjsJBjBRsmFsSRqqrGfrqqtrfrN',\n",
       "  'LZDHZZzdcdQzLbcgLwGtNVrlGrMVNfrllHrH',\n",
       "  'DPcZZzdQpZPzQQDpDdcpbcPgmBBBsnWfTBmnJmCsjjsPSTjJ'),\n",
       " ('jwwHjCPvLVmhmRdJvr',\n",
       "  'gTBnbFGTTQMgnTbdbhHhrplhJdlV',\n",
       "  'DTScZTgSSnGTBFzjDwtLtDDHqwwL'),\n",
       " ('RZWhWWRSgBRrdMRdCmtcdtLncHndqF',\n",
       "  'bssspTjbVDQGTVGTQsJpbvLtVmFLqqHgnLmCcFnmHC',\n",
       "  'DpfQJJQpDsGzzfDNhPBlPlMBNhghPZlW'),\n",
       " ('VzJrJMBntJpMnBBJMDDGDQLLQwwDpQLGLG',\n",
       "  'WSFCWNWWWhQRzvNqLTRD',\n",
       "  'CbSlSlWHghChhWlcclgcWdHgfrmbmznnffMZMztrMbrJBBBJ'),\n",
       " ('gtjBNTvDQNBPlBFlPFZPdP',\n",
       "  'mCmpfJCVmMzmfsHpCWdGPWCCWZGtSFtF',\n",
       "  'zJnhJnJzbbMMpnspmmfsJpLNgqtrjQvrTbTgLgtqgqLj'),\n",
       " ('CLJnZZCJLJZJgZZZJMLSTgnRdFWpFdfFWBffpqDBfjFWQdRD',\n",
       "  'slNzNzzwwPQrfWmDmqBFWlDm',\n",
       "  'zwHhsVHwQcHJCgnngMZn'),\n",
       " ('wLRLLddJLdZZZjHdRwgJsjqDVsDVSVGSscsVVmDq',\n",
       "  'tvMWfnhMvnvztzzVSVqqmcSSVsDGmW',\n",
       "  'TmhhpnnFlfMzMMRZRPTJRHwdPJZB'),\n",
       " ('sLsQSLvcSrbQbFGlWlCD',\n",
       "  'BhgPBqBhPwmmpPlGhZMVCFFlbZGF',\n",
       "  'nCBBTPBHdHwmfCvTLStLJSctrJtt'),\n",
       " ('vwNjwvBSSNndtdBJMJsLvZsJhZpPLM',\n",
       "  'TmCQDHGTVTLhPQhpZprq',\n",
       "  'CbCmmTzfVGfFGGCNbctwNPtcSnbjww'),\n",
       " ('NWQQdHdTddhGrnJjqCRggvRmhzmm',\n",
       "  'wLLVHcFFFfwtFfJzqRvmRqzRVgVz',\n",
       "  'MlwFfflbLFfbwctDplwcwFMMNNWdWNTNSWDQQnsQNWWHsrQH'),\n",
       " ('QlfbQrBjBQvfDBjhlpwpqbMzwWppGWqGwG',\n",
       "  'VJNcVCJgcntgRcsZWpPDPDqzPTqqnTpL',\n",
       "  'ZCRNRNmcJZCcNNVRmVdmHfjdrlfhSrvBDSfH'),\n",
       " ('MzzPjGpjpGPPjdtHBfBNBQBrbtlclV',\n",
       "  'FqCnZcgcnFsWqmVHVHlgfBrbQVVb',\n",
       "  'STmCLFZWnTsWvdvSSdvPpGcP'),\n",
       " ('lNjczlDNCSRMSmlR',\n",
       "  'VbhwhgwGQgwpvQpVDpSCbmfnCPfnMnmPmmBn',\n",
       "  'VhvGTdhwQwVVVsQQshjcDZdHdqzcDdJrjjzH'),\n",
       " ('DhPffCSLCPCwfPPqqwqVjHFjzljppl',\n",
       "  'TBWBRWTMRBTTBTBdbQqztzQtWqzQFqbV',\n",
       "  'sgGTBGTGmNvrGfrz'),\n",
       " ('hJgqGzqQmGQMQzgGmJGhJQSvZPfppjjPnZNTTTTpjWJvWp',\n",
       "  'lbwbRsRdbdmLdrllbbDcrHwwnjvjNfPWWZwWPjPjjZnTZZpf',\n",
       "  'dDDrdlDBHbDtVFSqmBShMMVF'),\n",
       " ('ddvtMZJdJTtDvgtfZJfvtWZlHpGljLRcBcjplLwGRnnLGlGc',\n",
       "  'SNbFbrCNhQbrVQCQSCVzbLjBGRGRGwTBVwpnRGcHcw',\n",
       "  'bbhrTzrbrPrSQFrTTCmFQPCJmJqvJfZZWftZmZJqDvgfJv'),\n",
       " ('vWLsTNNscttvNTLTLHRgcdqBnVSZVZVWVZqdSdJwwd',\n",
       "  'jDrFMhGPbGGFFPChDGpGBdngZMzVSSwZgJSqgMSV',\n",
       "  'bjjPQjphCPprhFrCCjFPDCTmcLgLtsTlmsNsQTtscQHt'),\n",
       " ('PdhqLdNccGsrNLpScBnDznjnBnzppQwpHz',\n",
       "  'ftFtMbtfRMMWTvfRgRWbWMTjjzngzCzjzmDPjjwQDCDQmm',\n",
       "  'MRWVVfWfbFWWTbFWlvvRWPJGSLSLNJcPVsqJPcLSGr'),\n",
       " ('fdRbPbHmnqvrvHDz',\n",
       "  'psTdcMgjjNpllVVgjJslMdpMhrttthznDttBWttBvWcnzBvh',\n",
       "  'gJjgVNFppjgCCVNsTTCsZbFwmmmmQGZSZLfwSZZd'),\n",
       " ('csDFpcpJFbccqpFqpfggJJsljhvlTvQQtjwPTmjPPjRTtNvh',\n",
       "  'ZBGLddVCSVwNThhCQjPj',\n",
       "  'ZHLLLrSHGSBzWWzHWpgwcFbJsfcgJbsrgg'),\n",
       " ('QJljRQLGJSNjMjQBLLJllFznzVCFpBnnzgwngpDCnD',\n",
       "  'mHWrTmWrdZHWvdrdWrdZttsFspFVcpzcwcggzpwzwVwDVp',\n",
       "  'vfzWvqTWWtPffWHqrWTZvTNSjRjQGGPPRbJbllQbMlJS'),\n",
       " ('DFnFprBLpHcSlJHRBl', 'dbdMMCdsVWmMPlHSSVPVJfcf', 'sllvhgsdLThDnhQF'),\n",
       " ('BSFTWCJWFJmBJdbcgDHgfDzHbncC',\n",
       "  'MjMPNjhlslPPLjPqPqVcDttzLBHcgDggDggDbB',\n",
       "  'MZhjMsBNNMhPrNjBrMhMPZWRmFmQFRRFFFQmWFQGFQ'),\n",
       " ('NFgqSSrtlNbNffffffmFFZCf',\n",
       "  'WPvTBPPnBWmdJjCsPmVd',\n",
       "  'zBwhwwTRWwhvvzTvnhCTnCnSbbqlNStNbLltDRDHRHqtDR'),\n",
       " ('NgggqJTHTJscdjggNVDVRcNHGLQWqpffZQGQGqpQWpWwQZfW',\n",
       "  'vvBPBhBFrzvnzSSrrSzPMtWZZcWGwmLnWQWpQlwGwpnl',\n",
       "  'rzbSCtrSttMctvvFMvrvPvgNJDRNHDsHNJsjTjsJJsVb'),\n",
       " ('HbGVfpJbmbpHLBfHbdChRDDwDRhFlMlFVDFr',\n",
       "  'QzNQqcNgtqcNMjgqtntsgswRDDRQlFDSFQPDFRDwhCFR',\n",
       "  'ngscZtsqsznnnszqTnnqHfLWLWLWZmJpWMJGLBZb'),\n",
       " ('cTNmqSbTBFhBQZjq',\n",
       "  'vswHWHWzHMMttvGGwgppttRfZFZjfBnQnfQZBhwQfhRB',\n",
       "  'lglsvMHHWHsWjHMtsvHvjWvTmJbCmcCcbCTcJlTmSmPSPT'),\n",
       " ('JjSBbBLppbrvZGhhhvGwZNRtNMPCqCPqRgCFRNMgjP',\n",
       "  'lWlmDsdDnszRRwdCcNcdwd',\n",
       "  'TsDwwVTWsHTmTWVzQflQJbSGhZrZZQBhvBSrJZSr'),\n",
       " ('JcrncrnrcZcGtJzfrrrzqbTWTlvW',\n",
       "  'SCRSDRPSLgRDCHdjjgmdDSHqQTzlmTNNVWbqfbvQzQlbfb',\n",
       "  'gpvpHHPPLdLRCSgjpLPtpZZMtnBMZJZBZBtMZs'),\n",
       " ('lQSvJllvHBPPHPHWSPQQJtDtnhbwDDwwtwfhrrVw',\n",
       "  'MgLLdsMsgpRpTLLMgFrbFnfhNbbrhtwDwDDr',\n",
       "  'MqpTpqGRLpMgBzGPSvlhSBhW'),\n",
       " ('NqpNNNPzhwzzshPwRPHWRmRFQWHDQPHD',\n",
       "  'VcbcnbjbbrrbbcnbZQDHmlRSVlvZWRFm',\n",
       "  'MttmjTtMrhqwhLhtdN'),\n",
       " ('dMggwDwvMdqgqqtqwHnzVnmGmGtGRrFmsJrN',\n",
       "  'SlBClclffBPfZlssrGnJnZZzzznF',\n",
       "  'ljfTPplCpLcpBBPfTBfcCTbvbDMMFhqdvqWpMWHMDMpd'),\n",
       " ('llTNZlhSvqMGlZMGhGgGlttrbVVwNjDbNFJbtjjDtN',\n",
       "  'fQWCBWQBBpBCsmzPmnmddQccwJtjdVbJDtDcrrjwjbFr',\n",
       "  'QzpQCRspPPPmzfppmmBBWLhgTZZTMRwSTgLlqvMqGG'),\n",
       " ('HSfnNllsHThcchcJBjJhRL',\n",
       "  'FQQdzFCrFMbdFbrJBcqprcBrcBDqcB',\n",
       "  'mtmMFJJmnTfnsHvm'),\n",
       " ('nddbfrBHdvbdBBhhhnWmtLsBGQCCtpmmMGPMQP',\n",
       "  'cwVVqVNggDgjZDFspptttQrsPgpttp',\n",
       "  'wDjczVZqSFDZVlSvrfhHlJHThh'),\n",
       " ('CttLqSPLqLHhhCdGGTgdlZfclNlsfglbTg',\n",
       "  'nzFJpQJWVQjFmnmpjFWzVvBbMBTBNNTfTgZlTgFMNNZb',\n",
       "  'njDDWpVWQjQnzZzjJjnRRwCqPtLLrSqhSwCPCHqG'),\n",
       " ('BFmNvfFNJRrdpMLLLVldWm',\n",
       "  'jPjGGwqsndHZqJqM',\n",
       "  'GtTSbjbtJjGQsQSSbPSGbzNgCRcCTCFhvfFgFFTBhfRc'),\n",
       " ('rwBvGlDrBMSzMvGVSBwMSZgnJmmJqmcTTTmVCFJRcTgF',\n",
       "  'bbjpzLhHnFTLngLJ',\n",
       "  'zdHQdQQftWfNfNtsSvrsGBPGlswrlvDw'),\n",
       " ('hdnMhghHZzFnZhDCCVTTTbtVmHmWbT',\n",
       "  'PQscSNcllJwzwbGmTmWVGm',\n",
       "  'sjprJpJjJNPpJBlpdFdgMzDDDhhvhd'),\n",
       " ('SMwBWSBMPSfzqzPf',\n",
       "  'gJDlrFFQlgbFgvjDjTgrQQTGlhNNLdlqLGhNPqwPNPNfGf',\n",
       "  'jvwHQQjrjrJrppjvJpDFgDgHcsZZnnsVHsmMWCnsBsVVWZ'),\n",
       " ('cblRJczlcBtBRCqNfGgHfpHCVHGp',\n",
       "  'WZWsLWmSPjMdWFGHTVNgLfvHqGDT',\n",
       "  'ZdmsFmZPmnZMsWWNsNjdmmmcQlrBQnBtQJtclBrtJwBzJz'),\n",
       " ('wtMNCNwNqwtMMRnVcTlFtlcnFlsl',\n",
       "  'vrvrjzjZDDDwmwwVFT',\n",
       "  'jzrHjrrHjjLBPfQPjZBZzvpSMwCNRpRwSdRCNLqSShSR'),\n",
       " ('BDgnhMDCDDpjDhBDJDfMSsLSZzCFTTLzTFLzTFZS',\n",
       "  'lrqrlmqbvtvWwVRtwlmrrqNvZlZSsLTTFTFZSPzZFzzTBFzz',\n",
       "  'HRRRbVmmwqhHHHhGJBcD'),\n",
       " ('MvnmMvNjvvvmNnRcvzHgzMGtzhffHwHtwt',\n",
       "  'ZBBsFPPrTgCpSSBwHrLtwbHbLLtzLf',\n",
       "  'ZBZZssBdWRJgmgJdNn'),\n",
       " ('TTLChzhDnjQLTDhTQJrzSbbJHsGrGrGFGb',\n",
       "  'BfvvpflfWVlVsFFvJHcFJFrJrt',\n",
       "  'ZwMBwwZPWMMpffflqlZMRnRNQLCNhPhDDNssnRQD')]"
      ]
     },
     "execution_count": 121,
     "metadata": {},
     "output_type": "execute_result"
    }
   ],
   "source": [
    "list_of_groups"
   ]
  },
  {
   "cell_type": "code",
   "execution_count": 122,
   "id": "bd2121fc",
   "metadata": {},
   "outputs": [
    {
     "data": {
      "text/plain": [
       "('CjhshBJCSrTTsLwqwqwb', 'GtmnFHlDfcpHbLZjtTTRLWwb', 'fDfNHHjVFNvvrvVBJJdS')"
      ]
     },
     "execution_count": 122,
     "metadata": {},
     "output_type": "execute_result"
    }
   ],
   "source": [
    "list_of_groups[0]"
   ]
  },
  {
   "cell_type": "code",
   "execution_count": 123,
   "id": "c11b12c0",
   "metadata": {},
   "outputs": [
    {
     "data": {
      "text/plain": [
       "'CjhshBJCSrTTsLwqwqwb'"
      ]
     },
     "execution_count": 123,
     "metadata": {},
     "output_type": "execute_result"
    }
   ],
   "source": [
    "list_of_groups[0][0]"
   ]
  },
  {
   "cell_type": "code",
   "execution_count": 124,
   "id": "62aad9f3",
   "metadata": {},
   "outputs": [],
   "source": [
    "temp_result = list(set(list_of_groups[0][0]).intersection(list_of_groups[0][1]))"
   ]
  },
  {
   "cell_type": "code",
   "execution_count": 125,
   "id": "97332691",
   "metadata": {},
   "outputs": [
    {
     "data": {
      "text/plain": [
       "['w', 'j', 'L', 'b', 'T']"
      ]
     },
     "execution_count": 125,
     "metadata": {},
     "output_type": "execute_result"
    }
   ],
   "source": [
    "temp_result"
   ]
  },
  {
   "cell_type": "code",
   "execution_count": 126,
   "id": "c4badaad",
   "metadata": {},
   "outputs": [
    {
     "data": {
      "text/plain": [
       "['j']"
      ]
     },
     "execution_count": 126,
     "metadata": {},
     "output_type": "execute_result"
    }
   ],
   "source": [
    "list(set(temp_result).intersection(list_of_groups[0][2]))"
   ]
  },
  {
   "cell_type": "code",
   "execution_count": null,
   "id": "b5de150f",
   "metadata": {},
   "outputs": [],
   "source": []
  },
  {
   "cell_type": "code",
   "execution_count": null,
   "id": "a2065839",
   "metadata": {},
   "outputs": [],
   "source": []
  }
 ],
 "metadata": {
  "kernelspec": {
   "display_name": "Python 3 (ipykernel)",
   "language": "python",
   "name": "python3"
  },
  "language_info": {
   "codemirror_mode": {
    "name": "ipython",
    "version": 3
   },
   "file_extension": ".py",
   "mimetype": "text/x-python",
   "name": "python",
   "nbconvert_exporter": "python",
   "pygments_lexer": "ipython3",
   "version": "3.9.13"
  }
 },
 "nbformat": 4,
 "nbformat_minor": 5
}
